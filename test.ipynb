{
 "cells": [
  {
   "cell_type": "code",
   "execution_count": null,
   "metadata": {},
   "outputs": [],
   "source": [
    "import importlib\n",
    "import rubidium\n",
    "import concurrent\n",
    "from tqdm.auto import tqdm\n",
    "import time\n",
    "import onsearch\n",
    "import helpers"
   ]
  },
  {
   "cell_type": "code",
   "execution_count": null,
   "metadata": {},
   "outputs": [],
   "source": [
    "importlib.reload(onsearch)\n",
    "start_time = time.time()\n",
    "test_searches = [\"AI\"]\n",
    "\n",
    "searchman = onsearch.SearchManager()\n",
    "\n",
    "res = searchman.search_list(test_searches)\n",
    "print(f\"time taken: {format(time.time() - start_time, '.4f')}\")\n",
    "print(res)"
   ]
  },
  {
   "cell_type": "code",
   "execution_count": null,
   "metadata": {},
   "outputs": [],
   "source": [
    "with open(\"searches.txt\", \"w\") as f:\n",
    "    f.write(str(res))"
   ]
  },
  {
   "cell_type": "code",
   "execution_count": null,
   "metadata": {},
   "outputs": [],
   "source": [
    "importlib.reload(onsearch)\n",
    "importlib.reload(rubidium)\n",
    "importlib.reload(helpers)\n",
    "\n",
    "ruby = rubidium.Rubidium()\n",
    "new_qn = \"Referencing the current Israel Palestine conflict, what are the potential geo political, geo economic and security impact in the region and the globe on a short, medium and long term perspective?\"\n",
    "question = \"What potential reactions may western nations have in response to China's increasing food imports from Africa and how might these reactions influence international trade dynamics?\"\n",
    "start_time = time.time()\n",
    "ruby.net_assess(new_qn)\n",
    "print(f\"time taken: {format((time.time() - start_time)/60, '.4f')}\")"
   ]
  },
  {
   "cell_type": "code",
   "execution_count": null,
   "metadata": {},
   "outputs": [],
   "source": [
    "importlib.reload(onsearch)\n",
    "importlib.reload(rubidium)\n",
    "importlib.reload(helpers)\n",
    "\n",
    "ruby = rubidium.Rubidium()\n",
    "\n",
    "chosen = ruby.choose_questions(qn_corp, questions)\n",
    "print(chosen)"
   ]
  },
  {
   "cell_type": "code",
   "execution_count": null,
   "metadata": {},
   "outputs": [],
   "source": [
    "mf_tb = \"\"\"\n",
    "3.1 Introduction\n",
    "Welcome to one of the most significant chapters in our exploration of Net Assessment - \"Strategizing Net Assessment: Mastering Questions, Data, and Uncertainty.\" This chapter focuses on a compelling, yet often overlooked, facet of net assessment: the art of questioning and recognizing constraints inherent in the field. This crucial inquiry and recognition serve as the foundation for the rigorous analysis required in any comprehensive and effective net assessment.\n",
    "\n",
    "As an aspiring net assessor, mastering questioning and understanding the restrictions of knowledge are imperative. Notably, this chapter will help develop your ability to frame incisive questions that unveil information while challenging false claims. The eventual goal is not only to gather information but to understand the intricacies of this information while respecting the limitations of our knowledge.\n",
    "\n",
    "This journey begins with an investigation into the two types of questions vital in the Net Assessment field: basic fact-oriented questions and causality questions. While the former seems simple on the surface, their meticulous evaluation often forms the bedrock of strategic decisions and forecasts. On the other hand, causality questions, with their inherent complexity, demand a distinct analytical acumen which this chapter aims to enhance.\n",
    "\n",
    "As we delve deeper, we will explore the exciting realm of the constraints on knowledge, which are as integral to any assessment as the knowledge itself. Together, we will navigate various aspects of such constraints, ranging from the potential obfuscation of data to restrictions imposed by limited resources.\n",
    "\n",
    "Towards the conclusion of the chapter, the focus will shift towards the implications of time in net assessments. Through graphical representations and discussions, we will decipher how uncertainty varies with our temporal distance from events, and how this invariably impacts our understanding of security, strategy, and forecasts.\n",
    "\n",
    "With this shaping of the thought process, you will find yourself capable of navigating uncertainties and complexities, and of rationalizing and theorizing in ways that open avenues for critical examinations of historical understanding and forward-looking expectations. Whether it is evaluating the reliability of the samples taken or understanding hidden biases, this chapter prepares you to master the intricate dance of data, uncertainty, and questions.\n",
    "\n",
    "As we venture into the unpredictable realm of the unknown unknowns, this knowledge base you have built will anchor your assessments. This active engagement and immersion into the world of questioning and constraints will not only make you a better net assessor but also empower you to shape the course of strategic development in a world laden with evolving uncertainties. \n",
    "\n",
    "In essence, this chapter contributes significantly to your journey towards becoming a critical and analytical net assessment expert, equipping you with the necessary tools to confidently embrace and navigate the vicissitudes of political, economic, and military strategy. Let us then embark on this rewarding quest towards mastering questions, understanding data, and managing uncertainties in Net Assessment.\n",
    "\n",
    "3.2 The Intricacies of Questioning in Net Assessment\n",
    "The ability to scrutinize complex geopolitical landscapes through robust questioning techniques is a fundamental aspect of net assessment. We distinguish between two forms of questioning: the 'fact-oriented' questions (who, what, when) and 'causality' questions (how or why events took place).\n",
    "\n",
    "Fact-oriented questions are deceptively straightforward; their correct interpretation is critical as policy decisions and predictions often depend on them. For instance, in a conflict analysis, queries such as 'Who started the war?', 'Who fired the first shot?' or, 'Where and when was the first shot fired?' help determine the factual backbone of an investigation. However, these questions do not operate in isolation--their validity and relevance are closely tied to the larger narrative of causality.\n",
    "\n",
    "Questions concerning causality, on the other hand, are more complex. They delve into the maze of precipitating factors and their interactions leading up to outcomes. Elements such as wins, losses, durations of process, and associated costs and benefits are often intertwined, making causality analysis a complex endeavor. This complexity is further amplified by phenomena such as 'endogeneity', where causes and outcomes are interdependent, imbuing the assessment with a significant degree of uncertainty.\n",
    "3.3 Recognizing the Limits of Knowledge\n",
    "The landscape of net assessment is characterized by intrinsic limitations--the constraints on our knowledge. Identifying these constraints and navigating them appropriately is a crucial facet of the discipline. There are several reasons behind these limits:\n",
    "\n",
    "1. Destruction or hiding of vital data: Frequently, the historical record, crucial for building a credible and coherent narrative, might be erased. Conquered armies or governments, for instance, may destroy vast amounts of evidence, obscuring what might have been pivotal information.\n",
    "\n",
    "2. Incentives to veer from truth: There are situations where implicated parties may deliberately misrepresent reality to detach themselves from troublesome outcomes.\n",
    "\n",
    "3. Inaccessibility due to information overload: We may sometimes be faced with mountains of data, making relevant information hard to detect. For example, in a legal case, an attorney with a weak position might overwhelm the opponent with excessive documents and data, making key facts difficult to find.\n",
    "\n",
    "4. The challenge of inference: Inferences are conclusions drawn from limited or sampled information. They are split into descriptive inferences--deducing attributes of an entire population based on a sample, and causal inferences--gaining insights into outcomes in the larger population based on limited data.\n",
    "  \n",
    "The credibility of any inference hinges on the sample being representative of the entire population. Issues like small or non-representative samples, omitted variables, assumed independence of factors, and cases of endogeneity, can skew the validity of such inferences.\n",
    "3.4 The Time Dimension in Assessments\n",
    "The time orientation of our inquiries adds another layer of complexity to net assessments. The relationship between our understanding and the time associated--past, present, or future--is often represented graphically. This representation emphasizes that the uncertainty associated with our knowledge increases with temporal distance from our current moment. Hence, our comprehension of the past and our predictions about future events contain intrinsic constraints and varying degrees of uncertainty.\n",
    "\n",
    "Our interpretation of past events is tainted by inevitable errors and uncertainties, especially when discerning facts and causality. Similarly, the future nestles within it substantial uncertainty as it lacks a basis of observations. The extent of this uncertainty varies with the historical period and the resources available for research. Consider the Peloponnesian War and World War I--our understanding of the former is shrouded in more uncertainty than the latter due to fewer available resources.\n",
    "\n",
    "In shaping our expectations of the future, theories play a critical role. These theories might take different forms, ranging from rational choice theory, game theoretic models, to informal logical arguments. They form the basis of decisions made for the future under specific assumed conditions, such as decision-makers being non-myopic and deliberative in their considerations.\n",
    "\n",
    "Over time, a reconsideration of historical facts and events becomes crucial for crafting causal explanations pertaining to the future. However, forecasting and shaping expectations for future occurrences based on historical lessons should be done with a nuanced understanding that past events may not always be completely analogous or representative in all situations. This fine tuning of understanding is crucial in the field of net assessment, as it significantly affects what we think we know about the past, present, and the future.\n",
    "3.5 The Scope of Perceptual Realities and the Boundaries of Knowledge\n",
    "In the context of net assessment, our awareness and understanding of real-time occurrences are limited by our perceptual confines. Quite simply, there is a wealth of simultaneous events that we are incapable of perceiving as they unfold. This inability to access real-time occurrences in varying locations results in gaps in our knowledge. As we broaden our time frame to consider the recent past, the immediate present, and the anticipated future, our assurance in this knowledge invariably fluctuates, revealing clear boundaries in what we can comprehend with certainty.\n",
    "3.6 The Consequence of Time on Net Assessment\n",
    "The concept of time plays a role in our degree of certainty or uncertainty concerning our understanding of occurrences. Uncertainty directly correlates with the time dimension: Our certainty about the present or recent past tends to be higher than our certainty about the long past or future. Expanding the time frame further into the past or future amplifies the level of uncertainty due to the ever-increasing number of interacting variables with consequential impacts on future outcomes.\n",
    "\n",
    "For instance, when pondering uncertainties embedded in strategic forecasts, one must question how this uncertainty morphs as we examine more distant future periods. It is also critical to question the variables considered when generating the forecast and the role variation and uncertainty could play with those input factors.\n",
    "3.6.1 Graphical Representation of Time-Dependent Uncertainty\n",
    "A visual representation of time-based uncertainty can be beneficial in understanding this concept. Imagine a time axis gridded into segments extending into the past and future, with the present equated to 'Zero'. As we move up the vertical axis, our uncertainty, or possibility of error in our assessments, increases. The area captured between two symmetrical parabolic curves can represent what we can likely deduce about a given moment in time, with the smallest area of uncertainty associated with the recent past, where records and direct accounts are relatively accessible.\n",
    "\n",
    "At any given point, there will always be errors: classified records, people misleading the truth, and budgetary constraints, limiting data exhaustive analysis. The uncertainty changes with time, and this change in itself becomes a critical consideration when we are asked to predict, say, the length of a conflict. A prediction with uncertainty measured in days or hours may not significantly impact decision-making, but one with uncertainty measured in weeks or months is entirely a different story.\n",
    "3.7 Uncertainty in Historical Perspectives\n",
    "As historical accounts recede into more distant epochs, the uncertainties increase correspondingly. Time-driven gaps in the narrative, factual discrepancies, and resultant uncertainties in causality widen as we traverse back in time. An oscillating line through this uncertainty graph presented in parabolic confines represents an ever-varying degree of uncertainty. The line oscillates as we progress through time, indicating the lowest uncertainty in the recent past, larger uncertainty at the present moment, and steadily increasing uncertainties as we project our assessments into the future. \n",
    "\n",
    "Considering the Peloponnesian War and World War I as exemplars, the former ancient conflict, recorded through a singular historical account, embodies far greater uncertainty than World War I, studied in extensive detail over decades by countless scholars. Even with all the data and resources devoted to understanding World War I, consensus remains elusive on its causal elements. This contrast becomes starker when considering the complex and multifactorial nature of war in the 20th Century as against the simpler scenario of the Peloponnesian War.\n",
    "3.8 Future Predictions and Theorising Net Assessment\n",
    "Future forecasting ushers in even more uncertainty. Unlike the past, where we have tangible observations, the future offers us no such luxury. The only logical foundation we can base our future predictions on is rooted in theories, whether they be causal propositions with informal logical arguments or formal mathematical theories.\n",
    "\n",
    "Rational Choice Theory is one such mathematical model, operating under the assumptions of non-myopic decision-makers and explicit deliberation of choices. This theory gives prominence to deliberate choices made by individuals under varying scenarios, choices that can determine geopolitical and military outcomes in net assessment. Alternative theories might focus more on environmental effects, de-emphasizing the influence of individual choices.\n",
    "\n",
    "Historical precedence and the resulting descriptive histories are also a valuable resource for future expectations. These records and factual reports, though not attempting causality, offer a baseline understanding to shape our future projections. Such descriptive history, while powerful, also requires careful and thorough evaluation to ensure accuracy. \n",
    "\n",
    "As we navigate through the complexity of time-dominated uncertainties while conducting net assessments, our strategic toolbox should encompass incisive questioning on the time sensitivity of uncertainties, acknowledging our spatial and temporal limitations, and understanding the potential factors contributing to these uncertainties. In the end, we must remember that even informed forecasts are grounded upon systemic choices, limitations, and deductions that inherently carry a degree of uncertainty. Recognizing this element of doubt and factoring it into strategic planning is critical for successful net assessment. \n",
    "\n",
    "In the next section, we will delve into \"Unknowns and Knowns\" to understand how these uncertainties can further influence our net assessments, particularly when it comes to unobservable realities, partially understood elements, and completely unknown facets.\n",
    "3.9 Understanding the Dynamics of Conflict: A Case Study\n",
    "As an illustration, let's revisit the Rwandan genocide of 1994, taking place within the larger context of a civil war lasting from approximately 1991 through 2002. The genocide is considered to have persisted for around three months – from April to July. Yet the number of victims is a point of contention with estimates ranging from as low as 200,000 to a high of a million casualties. The varying descriptions of this tragic episode in history expose the inherent difficulties in establishing agreed-upon facts for events in the recent past, let alone for more distant events. These uncertainties underscore the complexities and limitations of using historical events as a foundation for Net Assessment.\n",
    "\n",
    "Our interpretations of historical events are inevitably guided by contemporary analytical frameworks. Historical facts, both descriptive and causal, mold our understanding and influence our prospective actions. For instance, Hitler's appeasement in the Munich meetings prior to World War II is theorized to have emboldened him, escalating his future demands rather than curtailing them. Such \"lessons of history\" offer causal explanations for future predictions. However, these must be treated with caution - often they are analogies, stripped-down caricatures of events rather than nuanced understandings.\n",
    "\n",
    "Iteratively, our conception of possible future scenarios also influences the historical facts we choose to focus on. While drawing cues from history can provide valuable insights, one-size-fits-all lessons from events like Munich may result in inapt comparisons and misconstrued expectations. \n",
    "3.10 Crafting Selective Visions of Future: Role of Sampling and Research Design in Net Assessment\n",
    "Approaches for designing studies, determining the sample size, and periods of interest can dictate our understanding of the past and future. Therefore, it's essential to ponder over questions like: What is the population from which your sample is drawn? How was the sample generated? Is the sample representative? \n",
    "\n",
    "Consider an example where we aim to predict the impact of voters on a future election based on historical data. Suppose the selected sample includes unlikely voters; we risk making broad assumptions that might not accurately reflect actual conditions. Similarly, response rates must be considered. If a sample is drawn from a particular demographic, say only the youngest people, and doesn't account for other age groups from the population, it can lead to skewed results.\n",
    "3.11 Navigating the Rigors of Data Analysis\n",
    "Probing questions, while seen as challenging or confrontational, can uncover insights and biases within the data. Inference has to be drawn with care, considering potential biases, the source of information, and the relevance of sample population for the forecast or comparison being made. Questions like \"Could you explain your conclusion?\" or \"Is there an omitted variable in your model?\" should be posed with tact to unmask potential flaws or oversights in the analysis.\n",
    "\n",
    "Finally, there is the critical issue of understanding the inherent uncertainties and gaps in our knowledge. The idea, referred to as the Donald Rumsfeld problem suggests that our understanding is bounded by the known knowns, the unobservable known unknowns, and the elusive unknown unknowns. The task of a net assessor is to acknowledge these elements and incorporate them into the larger analysis framework for more refined, comprehensive assessments.\n",
    "\n",
    "In conclusion, strategizing net assessment revolves around judicious questioning, the careful handling of data, and managing inherent uncertainties. These approaches lend shape to the historian's narrative, the analyst’s forecast, and subsequently, the decision-maker's strategic plan. This task, complex and rigorous as it might be, is critical in our quest to navigate the known and the unknowable, the past and the future.\n",
    "3.12 Assessment through Historical Accounts\n",
    "When scrutinizing historical events, such as Patton's study of Caesar's battles and his reported comments, it is crucial to consider the possibility of motivated biases embedded in these records. Motivated biases refer to the intentional or subconscious skewing of descriptions, interpretations, or memories due to personal interests or beliefs. For instance, biases might manifest in accounts on political disputes, military decisions, or diplomatic interactions. \n",
    "3.13 Understanding Experimentally Generated Data\n",
    "Over the last couple of decades, the social sciences have witnessed an increasing reliance on experiments as primary sources of insights rather than purely observational data. Yet, experimenting comes with its own set of challenges, especially concerning the actual sampling used.\n",
    "\n",
    "An experiment's sample—the group of individuals participating in the experiment—must adequately represent the target population. For instance, social psychology experiments frequently involve college sophomores, typically freshmen or sophomores, due to the accessibility of these groups. If the experiment's results are then extrapolated to broader human behaviors, the question arises whether the responses of college sophomores under stress are representative of how presidents, prime ministers or autocrats might react. There is a significant leap from believing that responses from typically 20-year-old college students reflect decision-making and behavior of 50-year-old heads of state.\n",
    "\n",
    "Therefore, as you delve deep into research papers or discussions, ponder on questions like: How was the sample derived, and why do you think it's representative of our interest group? These questions ensure a realistic and reliable extrapolation of experimental results.\n",
    "\n",
    "\n",
    "3.14 Navigating Experimental Research Designs\n",
    "Experimental research designs possess impressive power, isolating the independent impacts of individual factors with unmatched efficiency. Taking an example from drug testing, if we want to determine the impact of aspirin on headaches, we can control and manipulate the circumstances through an experiment involving a placebo and an actual aspirin tablet. However, this clean-cut scenario rarely applies when considering broader and complex issues pertinent to net assessment.\n",
    "\n",
    "Net assessment is often dealing with intricate situations driven by a multitude of factors, which interact and even self-cause their outcomes, resulting in endogeneity. In these circumstances, conducting experiments exponentially increases in difficulty. Larger processes (such as interstate war) are practically impossible to run experiments on due to ethical considerations.\n",
    "\n",
    "\n",
    "3.15 Questioning Assertions and Acknowledging Uncertainty\n",
    "The power of epistemological questioning—\"How do you know that?\"—cannot be understated in safeguarding against poorly researched or casually asserted claims. If while perusing written works, a fact seems simply asserted, it is worth asking this question in your head. \n",
    "\n",
    "In the realm of net assessment, many insights and history inputs are indeed results of assertion without rigorous research. Moreover, uncertainty or errors are sometimes not openly recognized. Failing to confess the degree of uncertainty associated with our forecast can lead to problematic consequences.\n",
    "\n",
    "A final, potentially devastating question before making a major decision based on a forecast is, would you bet your life on that forecast? This question, posed either humorously or severely, forces individuals to face potential uncertainty within their predictions. Thus, illuminating the crucial foundation of our knowledge about future prospects. \n",
    "\n",
    "3.16 Toward the Unknown: Rumsfeld’s Dilemma\n",
    "This brings the discussion to what might be termed as Donald Rumsfeld's problem or the Johari Window. It posits that reality is divided into known and unknown spaces. The known incorporates observable and unobservable factors. Observable knowns in the domain of net assessment are often material capabilities, such as the number of tanks your adversary possesses or the number of missiles they have in store. Unobservable knowns may include recognizably influential factors whose effects we appreciate through associated behaviors, despite it not being directly observable.\n",
    "\n",
    "Furthermore, the quadrant of known unknowns represents the elements that could be estimated or understood given time or effort, whereas unknown unknowns remain elusive, further augmenting uncertainty. In the quest to decipher net assessment's complexities, these dimensions of knowledge and uncertainty call for nuanced and critical examination. Confronting these dimensions marks a crucial step towards a holistic and robust net assessment approach.\n",
    "\"\"\"\n",
    "\n",
    "mf_sum = helpers.summarise(mf_tb)"
   ]
  },
  {
   "cell_type": "code",
   "execution_count": null,
   "metadata": {},
   "outputs": [],
   "source": [
    "system_init = \"\"\"You are Rubidium. You are a world-class Geopoltical Analyst, who is extremely good at breaking down and planning comprehensive approaches to tough and complex analysis questions and research areas. You follow the concepts of Net Assessment, and you are the best in the world at Net Assessment.\n",
    "    \n",
    "Here is a reference to what Net Assessment is: Net Assessment is a strategic evaluation framework that carries considerable significance in the field of geopolitical and military analysis. It was pioneered by the Office of Net Assessment (ONA) in the United States Department of Defense in 1973, reflecting its rich historical context, but its utility today is felt beyond the shores of a single nation, offering globally pertinent insights for any entity faced with complex geopolitical dynamics. \n",
    "\n",
    "This methodical process undertakes a comparative review of a range of factors including military capabilities, technological advancements, political developments, and economic conditions among nation-states. The primary aim of Net Assessment is to identify emerging threats and opportunities, essentially laying the groundwork for informed responses to an array of possible scenarios, making it a powerful tool in modern geopolitical and military strategy.\n",
    "\n",
    "Net Assessment examines current trends, key competing factors, potential risks, and future prospects in a comparative manner. These comprehensive analyses form the bedrock of strategic predictions extending up to several decades in the future. Thus, leaders geared towards long-term security and strategic outlooks stand to benefit significantly from this indispensable tool.\n",
    "\n",
    "The framework also paves the way for diverse types of materials and findings, ranging from deeply researched assessments to concise studies, informal appraisals, and topical memos. These resources, although initially produced in a highly classified environment, have been toned down and adapted for broader strategic and policy-related debates, serving as critical inputs for decision-makers in diverse geopolitical contexts. \n",
    "\n",
    "The role of Net Assessment in shaping historical shifts in policy and strategy merits attention. Despite acknowledging its roots within the US Department Defense, it’s important to note its influence on significant decisions. For instance, it has helped draft new strategic paradigms and reverse major policy decisions, exhibiting its potential for globally-relevant strategic discourse.\"\"\"\n",
    "\n",
    "prompt = f\"The below is a summary of a lecture that teaches students how to uncover Material Facts, which is the first aspect of the Net Assessment Framework. I would like you to come up with a technically rigorous, verbose, and holistic definition of what a Material Fact is. Your definition should be self-contained, in the sense that someone who has no idea what Material Facts are would be able to grasp an almost complete understanding just from reading your definition. It needs to be technically rigorous. Here is the summary: \\n\\n {mf_sum} \\n\\n\"\n",
    "\n",
    "\n",
    "\n",
    "res = helpers.call_gpt_single(system_init, prompt)\n",
    "print(res)"
   ]
  },
  {
   "cell_type": "code",
   "execution_count": null,
   "metadata": {},
   "outputs": [],
   "source": [
    "with open(\"test.txt\", \"w\") as f:\n",
    "    f.write(res)"
   ]
  },
  {
   "cell_type": "code",
   "execution_count": null,
   "metadata": {},
   "outputs": [],
   "source": [
    "sample_mf = f\"\"\"\n",
    "\n",
    "\"\"\"\n",
    "\n",
    "sample_info = f\"\"\"\n",
    "- China and the United States have been collaborating to safeguard global food security, focusing on policy coordination, technical cooperation, and personnel exchanges.\n",
    "- Both countries have roles in addressing the global food crisis, with the US providing aid to Africa's Horn region and China shipping emergency food assistance to countries such as Somalia, Eritrea, Ethiopia, and Djibouti.\n",
    "- In response to the severe drought leaving 18.4 million people in the Horn of Africa facing extreme hunger, China has initiated emergency food aid shipments, with more than 200,000 people facing famine in Somalia.\n",
    "- However, the global response to the crisis has been slow, with hundreds of thousands of children at risk of starvation.\n",
    "- In response to climate shocks and an uncertain global market, China is strengthening farmland protection and exploring the utilization of \"non-traditional farmland,\" including saline and alkali soil, which accounts for over 33 million hectares in China, a third of which is potentially suitable for farming.\n",
    "- The Chinese Academy of Agricultural Sciences (CAAS) has highlighted the potential threat to food security from nutrient-rich foods lost during processing, packaging, handling, and transport, which could meet the nutritional needs of approximately 190 million people or 13.6% of China's population.\n",
    "- China's increasing engagement with Africa in the field of agriculture has led to Shanghai ports handling over 40,000 tonnes of African agricultural products, worth more than US$100 million, in the first two months of this year.\n",
    "- China's influence in Africa is being countered by increased US engagement in the continent, such as by US Treasury Secretary Janet Yellen's visit to Africa to strengthen relations and explore economic opportunities arising from Africa's demographic boom.\n",
    "- Despite China's significant economic investment in Africa surpassing that of the US, Africa remains cautious about geopolitical rivalries and prefers not to choose sides.\n",
    "- China's lending to Africa decreased by 78% in 2020 due to the Covid-19 pandemic, however, bilateral trade between China and Africa increased by 35.3% in 2021 compared to 2020, indicating a positive trajectory.\n",
    "- China's foreign direct investment in Africa grew in 2020, despite the pandemic, with a cumulative total investment of $47.4 billion by the end of 2020.\n",
    "- China's Belt and Road Initiative (BRI) is facing challenges due to bad debts, China's domestic financial issues, and potential loss of Italy, the only major rich democracy that is a member. In response, the Group of Seven (G7) has launched a $600 billion plan.\n",
    "- However, Chinese investment remains an essential part of Africa's growth prospect and continues despite the challenges.- G7's Partnership for Global Infrastructure and Investment (PGII) has announced its aim to collect $600 billion in funding, but has not yet provided any substantial funding and faces credibility issues.\n",
    "- There is a lack of transparency and disagreements over funding among G7 countries for the PGII.\n",
    "- China remains committed to the Belt and Road Initiative, planning to host a forum with representatives from 110 nations, focusing on green development and digital connectivity.\n",
    "- China is negotiating policies and trade deals with African countries to increase access to agricultural products and reduce trade deficits.\n",
    "- The Chinese government is considering policies to encourage the import of more agricultural products from Africa.\n",
    "- China's current imports from Africa are predominantly natural resources; exports to Africa include machinery, electronics, textiles, and consumer goods.\n",
    "- Despite examples of successful sales of African goods to China (like Rwanda's chilli peppers and Tanzania's soybeans), African countries experience tariff and non-tariff barriers while accessing the Chinese market.\n",
    "- China is investing in agricultural projects across Africa to enhance crop yields, food security, and local agricultural expertise.\n",
    "- Chinese agricultural support in Africa focuses on technology enhancement and improving production.\n",
    "- Challenges such as infrastructure needs and balancing between aid projects and commercial success do occur in implementing these investments.\n",
    "- China pledges to allocate more resources to Africa's industrialization and agricultural production.\n",
    "- Chinese President Xi Jinping is dedicated to opening \"green lanes\" for African agricultural products while also reducing tariffs.\n",
    "- China is committed to supporting the African Union's full membership in the Group of 20 and financing the operations of the AfCFTA secretariat.\n",
    "- Chinese agricultural investment strategy does not include buying American farmland; however, they are investing in farmland in sub-Saharan Africa, Southeast Asia, Eastern Europe, and Russia.\n",
    "- China's trade with African countries in agriculture and natural resources has increased significantly; notable examples include Tanzania's soybeans, Kenyan avocados, and South African fruit.\n",
    "- China-Africa trade reached a record US$254 billion in 2021, with a promise to import US$300 billion of African agricultural produce by 2025.\n",
    "- The Chinese government is working to expand market access for African products and boost imports from Africa to $300 billion in the next three years.\n",
    "- However, Africa accounts for only 3% of China's total agricultural imports, facing challenges such as China's strict food safety protocols and tariff and non-tariff barriers.\n",
    "- China has a significant influence on Japan's relations with Africa, with Japan seeking support from African countries in its push for reforms at the United Nations Security Council.\n",
    "- India's rice export ban raises concerns on potential domestic shortages and high global food inflation, as India accounts for over 40% of global rice trade.\n",
    "- Engagements between China and various African countries are a prominent topic of discussion and further focus on security and investment concerns.- China seeks to resolve security challenges through political dialogue and development investment.\n",
    "- China's engagement with Africa includes security, economic cooperation, military industry development, and peace initiatives.\n",
    "- The relationship is driven by significant investments, infrastructure development, non-interference policies, and Chinese strategic interests promotion.\n",
    "- China-Africa engagement is characterized by coordinated trade and collaboration through the Forum on China-Africa Cooperation (FOCAC).\n",
    "- Chinese investment stock in Africa reached $49.1 billion in 2019, contributing over 20% to Africa's growth.\n",
    "- China is Africa's largest trading partner for 11 consecutive years.\n",
    "- Cooperation documents between China and 44 African countries and the African Union Commission have been signed under the Belt and Road Initiative.\n",
    "- Critics worry about the dominance of China in the relationship with Africa and the issue of debt sustainability.\n",
    "- The COVID-19 pandemic may complicate future China-Africa relations due to exacerbated African debt and loan repayment issues.\n",
    "- President Joe Biden established the first President's Advisory Council on African Diaspora Engagement, an initiative to deepen ties with African communities.\n",
    "- The council aims to advise on strengthening relations, promoting trade and investment, and building educational exchanges.\n",
    "- The US aims to position itself as a more beneficial partner to Africa than countries like China and Russia.\n",
    "- Chinese lending to Africa fell below $1 billion in the past year, the lowest level in nearly two decades.\n",
    "- Several African nations, including Zambia, Ghana, Kenya, and Ethiopia, are struggling with debt crises.\n",
    "- While China has curbed large loans, it is focusing more on greener and high-quality initiatives on the Belt and Road Initiative.\n",
    "- Despite a decline in lending, Chinese engagement in Africa is unlikely to end.\n",
    "- Chinese imports of Russian goods increased to $11.5 billion.\n",
    "- China rejected Western criticism of its partnership with Moscow and its strategic significance in the Russian Far East.\n",
    "- Russia is diversifying its exports of commodities and is looking to boost seafood and grain exports to China.\n",
    "- Ukraine has announced a \"humanitarian corridor,\" aiming to release trapped ships and bypass blockade after Russia abandoned a deal to let Kyiv export grain.\n",
    "- China's imports of superfoods from Kenya have increased due to trade agreements.\n",
    "- China's dual circulation strategy aims to minimize exposure to global forces and boost domestic capabilities.\n",
    "- Chinese government aims to mitigate potential chokepoints in its supply chains by investing in the grain corridor between China and Russia.\n",
    "- The EU and China's strained relations are due to China's alliance with Russia and a trade deficit of almost 400 billion euros.\n",
    "- Valdis Dombrovskis, the EU's Executive Vice President, is negotiating for more balanced economic ties in a four-day visit to China.\n",
    "- During a G7 summit, the countries involved plan to discuss China's perceived economic threat and use of coercion.\n",
    "- Russia is the world's leading fertilizer exporter, followed by China, Saudi Arabia, Oman, and Egypt.\n",
    "- A new terminal for ammonia export is expected in the Russian Black Sea to replace the importance of a pipeline across Ukraine.- Uralchem exports potash to the U.S. despite obstructions caused by Western sanctions costing the company over $200 million.\n",
    "- Uralchem additionally donates fertilizer to poor nations.\n",
    "- A heatwave in northern and central India threatens grain damage and wheat production for a second consecutive year.\n",
    "- India, the world's second largest wheat producer, may need to import the grain after banning exports due to reduced production.\n",
    "- The heat threat can result in early crop maturity and shriveled grains.\n",
    "- Some trade bodies and global trading firms predict a significant drop in wheat production in India compared to government estimates.\n",
    "- Higher yet expected lower wheat production may lead to higher prices, encouraging farmers to sell to private entities.\n",
    "- India's government aims to procure about 34 million tonnes of wheat from farmers in 2023.\n",
    "- China is concerned about food security due to reliance on global food market and strained relations with top agricultural exporters such as Russia and Central Asian countries, as well as the U.S.\n",
    "- The New Land Grain Corridor helps China increase imports of cheap Russian wheat and diversify its agricultural imports.\n",
    "- The corridor might attract more Chinese agricultural investment in the Russian Far East despite current investment difficulties due to agricultural transport infrastructure and regulatory barriers.\n",
    "- The same corridor also helps China diversify supply routes, reducing reliance on potential chokepoints impacting food availability and pricing.\n",
    "- China has around 10% of the world's arable land, but per capita acreage for crops is less than half the global average.\n",
    "- In 2020, China experienced issues including the pandemic, African swine fever outbreak, floods, typhoons, drought, and pest outbreaks, affecting food security.\n",
    "- To protect food security, China has implemented measures including national grain stockpiles, setting minimum cultivated farmland levels, and constructing high-standard farmland for large-scale cultivation.\n",
    "- China, the world's largest food importer, has had grain imports above 100 million tonnes since 2014 and increasingly relies on imports for soybeans and corn.\n",
    "- The phase one trade deal between the U.S. and China in 2020 involved commitments to increase agricultural trade, with China planning to buy an additional $32 billion of U.S. agricultural goods in 2020 and 2021 compared to 2017 levels.\n",
    "- China aims to maintain engagement in global trade, finance, and technology, while also strengthening domestic demand, production, and technological capabilities through its dual circulation strategy.\n",
    "- Challenges to this strategy may include steps to spur domestic demand potentially undercutting China's export competitiveness.\n",
    "- China's engagement with Africa, including Tanzania, Kenya, Ethiopia, South Africa, and Rwanda, has affected global food trade and their agricultural imports from Africa have significantly increased.\n",
    "- Trade between China and South Africa grown by 66% to $34.7 billion.\n",
    "- As part of its Belt and Road Initiative, China has made investments across Africa, boosting trade.\n",
    "- Challenges exist for African nations in entering the Chinese market due to stringent SPS agreement requirements and understanding the market and its rules.\n",
    "- Trade between China and Africa has grown twentyfold in the past two decades to reach $204 billion last year.\n",
    "- Japan seeks to enhance its presence in Africa, viewing China as a competitor in Africa's markets. At the TICAD conference, Japan proposed high-quality investments and better loan insurance coverage to African governments and companies as an alternative to collaborating with China.\n",
    "- Trade between China and Africa grew by 16.6% to $137.4 billion in the first half of the year due to the recovery in commodity prices, particularly oil.\n",
    "- China's President Xi Jinping aims to increase imports from Africa to $300 billion in the next three years to balance the trade.\n",
    "\"\"\"\n",
    "\n",
    "sample_qn = \"How does China's food security strategy and its increased engagement with Africa potentially impact global food trade dynamics?\"\n",
    "\n",
    "sample_persona = \"You an expert in global geopolitical analysis\""
   ]
  },
  {
   "cell_type": "code",
   "execution_count": null,
   "metadata": {},
   "outputs": [],
   "source": [
    "importlib.reload(rubidium)\n",
    "\n",
    "start_time = time.time()\n",
    "acruby = rubidium.ActorCriticRuby(recurrence_count=3)\n",
    "\n",
    "res = acruby.get_material_facts(sample_info, sample_qn, sample_persona)\n",
    "print(f\"time taken: {format((time.time() - start_time), '.4f')}  seconds\")"
   ]
  },
  {
   "cell_type": "code",
   "execution_count": null,
   "metadata": {},
   "outputs": [],
   "source": [
    "with open(\"ac.txt\", \"w\") as f:\n",
    "    f.write(res)"
   ]
  },
  {
   "cell_type": "code",
   "execution_count": null,
   "metadata": {},
   "outputs": [],
   "source": [
    "with open(\"first_mf.txt\", \"r\") as f:\n",
    "    first_piece = f.read()\n",
    "    \n",
    "with open(\"ac.txt\", \"r\") as f:\n",
    "    second_piece = f.read()\n",
    "\n",
    "system_init = f\"You are an extremely intelligent and incisive GAI.\"\n",
    "\n",
    "prompt = f\"\"\"\n",
    "I am going to give you two different pieces of text below. Both of these pieces of text are supposed to cover the same material. Your goal is to identify the factual reporting differences in this text, and also tell me which one is more detailed.\n",
    "\n",
    "Here is the first piece of text:\n",
    "{first_piece}\n",
    "\n",
    "Here is the second piece of text:\n",
    "{second_piece}\n",
    "\"\"\"\n",
    "\n",
    "res = helpers.call_gpt_single(system_init, prompt)\n",
    "print(res)"
   ]
  },
  {
   "cell_type": "code",
   "execution_count": null,
   "metadata": {},
   "outputs": [],
   "source": [
    "fc_tb = \"\"\"\n",
    "6.1 Introduction\n",
    "This chapter marks an integral juncture in understanding the nuances of net assessment strategies. In this chapter, we delve deep into the hinge points that significantly shape the dynamics of net assessment. Anchoring our exploration are four pivotal force catalysts: leadership, resolve, initiative, and entrepreneurship.\n",
    "\n",
    "These elements carry weight as they envelope the strategic evaluation of international conflicts and military performance. This understanding equips net assessors with essential tools to navigate the complex terrains of geopolitical and military contexts. Through the force catalysts, we will discuss how critical attributes such as leadership experiences shape risk propensity and, consequently, policy outcomes.\n",
    "\n",
    "The technological advancements have transformed warfare and infrastructures, introducing high stakes in the strategic evaluation of military capabilities. In this context, leadership, resolve, and initiative must integrate with the shifting dynamics brought about by technology to create successful strategies.\n",
    "\n",
    "Our exploration extends to the societal implications on military preparedness and performance. These include societal structures, the willingness to risk for the community, and the impact of societal values on military developments. It is thus essential to consider these influences alongside the military capabilities of states.\n",
    "\n",
    "By applying the lens of the force catalysts, we deepen our understanding of geopolitical contexts, gaining the ability to not only analyze and forecast but also to identify opportunities and mitigate threats. As we unravel the dynamics of Net Assessment through these crucial aspects, we provide the groundwork to forge informed strategic decisions and policies.\n",
    "\n",
    "This chapter holds significance in broadening your perspectives, sharpening your analytical abilities, and honing your capacity for innovative strategic thinking. The understanding of these force catalysts and their complex interplay will underpin your growth as a comprehensive Net Assessment expert. Their integration within the broader framework of Net Assessment will lay the groundwork for sound, strategic decision-making applicable across various geopolitical contexts.\n",
    "6.2 Leadership As a Force Catalyst\n",
    "Examining leadership as a force catalyst, we underscore the prominence of political leadership, discerning aspects such as quality, unity, and resolve. Strengthening this discussion, military leadership, at both strategic and tactical levels, further illustrate leadership's vital role in the force catalysts realm.\n",
    "\n",
    "Noteworthy leadership influences interactions at both diplomatic and combat levels. When dissecting triggers of crises or disputes that may escalate into wars, leadership amasses a greater influence than societal or military balances. This trend also pervades the battlefield. Embellishing this concept, we reference a study by Professor Dan Writer at Emory University. He meticulously examined military performance in World War II, specifically focusing on the American and German militaries. In this comparative review, he assessed battlefield performances of units wherein leadership remained consistent throughout war versus units experiencing leadership changes. Conclusively, he found improved performance in units with leadership changes, often leading to superior performance over units with steady leadership.\n",
    "\n",
    "Addressing relative importance, we unearthed leadership's prevalence over institutions, alliances, state economies, and even the touted democratic peace. But leadership isn't the sole determining factor. The geography of a state may hold influence over its military behavior, second only to its leadership. This influence hints towards John Mearsheimer's concept of the stopping power of water in assessing the role of terrain in state behavior.\n",
    "\n",
    "Leadership extends beyond individual states, influencing the entire international system. We postulate a correlation between risk acceptance and conflict frequency. For instance, in regions dominated by risk-averse leaders, we would predict scarce conflicts or wars and vice versa. The combination of risk-averse and risk-accepted leaders triggers large-scale conflicts.\n",
    "\n",
    "Exploring historical connections, we noted that the current state of political leaders—older and with minimal military combat—mirrors patterns leading up to World War II. \n",
    "6.3 Resolve: An Integral Force Catalyst\n",
    "Another consequential force catalyst is resolve. Whether considering military, government, or civilians, resolve ultimately contributes to strategic successes. As the old saying goes—quitters never win. This straightforward depiction of resolve plays into our net assessment discussion.\n",
    "\n",
    "The 20th century showcases declining resolve and casualty sensitivity. Factors attributing to this decline include increasing capital labor ratios, declining birth rates, and the rise of democracies, characterized by citizen aversion to high-risk activities such as war. Growth in individual value, due to societal changes and technological progress, has led to increasingly risk-averse societies, with governments reflecting this trend.\n",
    "\n",
    "6.4 The Role of Initiative in Modern Warfare\n",
    "Initiative emerges as a crucial factor in modern warfare strategies. Stephen Biddle, in his book, emphasizes capturing initiative as a vital part of the modern battle system. The first shot advantages bring both strategic and tactical rewards. In various instances, tactical opportunities on the battlefield may be ephemeral. Thus, seizing initiative could be the determinant of success or failure on the battlefield.\n",
    "\n",
    "Reflecting on the Battle of Gallipoli in World War I, the consequences of initiative or lack thereof are vivid. British troops on the beach, due to the lack of orders, failed to take the initiative, while the Turks did, leading to significant losses for the British forces. \n",
    "\n",
    "In the following sections of this chapter, we will discuss the remaining force catalysts--entrepreneurship--and also explore the influence of technology and societal structures on effective utilization of military power. The understanding of these catalysts equips students with crucial tools for comprehensive net assessments and strategic planning.\n",
    "\n",
    "6.5 Force Catalysts: Entrepreneurship and Initiative\n",
    "A critical shift in an otherwise traditional battle landscape can occur when troops seize fleeting opportunities and respond simultaneously to the emergent and unanticipated battlefield scenarios. This calls for what we describe as initiative and entrepreneurship.\n",
    "\n",
    "Initiative, in a military context, primarily involves the readiness of individuals to take risks, be assertive, and seize fleeting opportunities that emerge in combat. It necessitates, at the core, the ability to cope with unanticipated conditions and exploit gaps when they appear, no matter how transient.\n",
    "\n",
    "An example that illustrates the significance of initiative is the Battle of Gallipoli. Had the troops seized the unoccupied high ground through individual initiative, the entire face of the battle could have been dramatically altered. This example underlines two critical components of successful military conduct—initiative and entrepreneurship. They involve tactical and strategic innovation at the scale of whole militaries, as well as smaller units, crucial in adapting to rapidly shifting circumstances on a warfront.\n",
    "6.5.1 Societal and Political Cultures and their Effect\n",
    "The readiness and extent to which initiative and entrepreneurship are practiced within the military are closely tied to the underlying political and societal cultures of respective nations. To illustrate, consider a hypothesized confrontation between countries such as the United States and East Asian states like China. \n",
    "\n",
    "American soldiers often carry the reputation of being indiscipline and tough to control, while also being more willing to show initiative and come up with innovative ways of using their weapon systems. East Asian soldiers, on the contrary, have been largely perceived as highly disciplined, controllable and order-following. However, they have been criticized as relatively less willing to seize the initiative and exploit opportunities on the battleground.\n",
    "\n",
    "Notably, well-disciplined units willing to take the initiative are often the highest performing, implying that discipline and initiative are not incompatible but rather complementary in modern warfare.\n",
    "6.5.2 Mobile and Maneuver-based Strategies\n",
    "The significance of initiative becomes even more pronounced in mobile and maneuver-based strategies, coined as part of Biddle's modern battlefield concept. Such strategies rely upon speed and require lower-ranked officers and troops to adapt in a quickly moving battlefield context. This necessitates individual willingness to seize opportunities and adapt rapidly to new situations—underscoring the importance of initiative in modern warfare.\n",
    "6.5.3 Societal Impact on Initiative\n",
    "Some societies, especially in the Middle East, have been criticized for displaying a systemic lack of initiative among junior officers. Civil-military relations in these societies seem to inhibit the ability of troops on the ground to act decisively. Arab political leaders' concern about the risk of coups from within their militaries has contributed to centralization of authority, thus reducing the delegation of authority to junior officers. Such societal dynamics by design undermine individual initiative on the battlefield, thus thwarting a successful execution of modern military systems.\n",
    "6.5.4 The Role of Technology and Training\n",
    "Effective operation on a modern battlefield also heavily depends on technology and investment in training. The interplay of the two can help militaries overcome friction during warfare. \n",
    "\n",
    "Technology acquisition is necessary, but it needs to be supplemented by the intensive and costly training that even great technologies often require for successful operation on a battlefield. While initially technology can provide a transformative advantage, its effect could diminish to marginal over time and even potentially turn into a vulnerability due to dependence on it. \n",
    "\n",
    "For instance, the Global Positioning System (GPS) was initially transformative, and then the advantage became marginal as it was adopted across different states. As we move into the future, an increasing dependence on GPS could carve out a potential vulnerability for states that depend heavily on it. \n",
    "\n",
    "It is important, therefore, to regularly reassess the potential benefit and possible risks associated with particular pieces of technology and adapt military strategy accordingly.\n",
    "\n",
    "In conclusion, both initiative and entrepreneurship play a remarkable role in shaping battlefield outcomes. Furthermore, the cultural and societal backdrop of a country can significantly impact the extent of their practice in military scenarios. Lastly, technology and training are key pillars of modern warfare, but their benefits need continuous assessment, given the rapid pace of technological change and the potential risk of becoming overly dependent on specific technologies.\n",
    "6.6 The Interplay of Politics and Innovation in Shaping Military Technologies\n",
    "The involvement of politics in the evolution of military technologies has displayed significant bearing on Net Assessment strategies. These advancements in military toolkits do not materialize erratically; instead, they are often the result of calculated political decisions that direct socio-economic resources to facilitate military innovation. The strategic power of a state is no longer solely defined by financial muscle, but also by the orientation and conduct of its political leadership.\n",
    "\n",
    "The development of the advanced catapult in Syracuse dating back to 399 BC illustrates a classic scenario where political initiative spurred technological advancement. At the time, the device marked a significant leap in siege weaponry. The political authorities, driven by the aspiration to dominate their regional adversaries, attracted top-tier talent, incentivising them with attractive wages and promising monetary rewards for practical military innovations. This concentration of wealth and talent cultivated the creation of unprecedented siege engines and catapults, transforming the face of warfare and dictating a new trajectory of history within the region.\n",
    "\n",
    "Technological transformations have continued over millennia; notable examples include the infrared homing missiles like the Sidewinder missile and its portable counterpart, the Manpad or Stinger missile. Featuring infrared sensors sensitive to marginal changes in heat radiation, these missiles fundamentally changed the dynamics of aerial warfare. Notably, they altered engagement distances in dogfights, shifting the odds dramatically in favor of those who master the technology.\n",
    "\n",
    "In the mid-20th century, the United States introduced these devices, revolutionizing the destructive force-to-force ratios in aerial disputes. Consequently, the technology rendered adversaries with inferior technology helpless in engagements against advanced American aircraft. Subsequently, the Stinger missile equipped guerrilla forces with the capability to combat high-tech aircraft of wealthier states, indicating the transformative potential that a tactical technological adoption can have on warfare scenarios. In the process, such innovations have also been used with malicious ends, underscoring the dangerous potential these advancements possess in wrong hands.\n",
    "\n",
    "Crucial to consider in this regard is the inevitable dissemination of technology. Innovations like the Sidewinder missile were subject to reverse engineering by the Soviets, which led to the sharing of technological advancements with the Chinese. Similarly, technology behind the Stinger missile found its way across borders. This technological spread raises vital questions about the deliberate withholding of advancements to prevent a level playing field.\n",
    "\n",
    "Analyzing these case studies, it becomes evident that force catalysts and technological shifts are intrinsically linked with the relationship between state, society, and war. Social, political, and cultural factors dictate how states utilize resources to marshal military power. Even economically disadvantaged militaries have shown impeccable effectiveness when they strategically mobilize their resources, as seen in many successful guerrilla campaigns.\n",
    "\n",
    "Conversely, wealthy militaries may fail if resources are squandered, as observed in the ongoing conflict between the Houthi rebels and the Saudi military. Furthermore, societal structures can greatly affect a country's ability to mobilize military power. Steve Rosen at Harvard University analyzed how India's deeply ingrained caste system hindered the optimization of its military forces.\n",
    "\n",
    "Ultimately, the tangible, easily quantifiable indicators like number of tanks, aircraft, or ships often take center stage in determining military strength. However, a myopic reliance on such quantifiable indicators could offer a misleading picture, neglecting the intangible factors that shape a state's actual military power. \n",
    "\n",
    "As we delve into the role of intangibles, it is essential to consider the impact of political leadership. Choices made by political leaders heavily influence the risks and outcomes of wars. In assessing military capabilities, it would be imprudent to rely entirely on easily measurable indicators. However, offering precise estimates is often demanded by leaders, which causes analysts to focus on aspects that are easily measurable and clearly observed. To predict future trends and military outcomes more accurately, a wholesome focus on both intangible aspects and material indicators becomes fundamental.\n",
    "\n",
    "Evidently, there is often a great disconnect between a state's access to resources and its ability to translate them into military power. This highlights the crucial role of political leadership and the importance of broadening our vision beyond the easily measurable and observable aspects while formulating Net Assessment strategies. Political leaders heavily shape the risks and outcomes of global conflicts, reflecting their pivotal role in analyzing and predicting the behaviors of states.\n",
    "6.7 Leadership and Risk-Propensity in the International Arena\n",
    "Discussions on political leadership often revolve around the willingness to take risks. Referred to by psychologists as disinhibition, leaders constantly grapple with this quality in their quest to make tough and decisive choices that often have profound effects. In contrast, some leaders exhibit a significant reluctance to take risks that could potentially endanger their country, manifesting considerable variation across leaders and their policies. Political leadership choices significantly influence a state's actions, especially when it comes to conflict.\n",
    "6.7.1 Evaluating Leadership Risk-Propensity\n",
    "To thoroughly ascertain a leader's risk-taking propensity or level of disinhibition, one would delve into their background, upbringing, and early life experiences. These insights aid systematic assessments of how they might respond to international conflicts. We can evaluate these factors independently or examine them alongside other pertinent attributes like material capabilities, regime type, and additional intangibles.\n",
    "\n",
    "But where do these risk attitudes primarily originate? While some part of it is innate, an aspect clearly demonstrated with data-driven experimental research and twin studies, experiences also play a crucial role. Traits like personality characteristics are roughly a 50-50 split between genetically determined attributes and nurture or environmentally determined attributes.\n",
    "\n",
    "Understanding a leader's background experiences, especially during formative periods of their lives, paves the way to predict their behavior and decision-making when they hold leadership roles.\n",
    "6.7.2 Translating Experiences into Security Policy\n",
    "Everyone is born with innate attributes while life experiences continually shape them. These attributes, combined with life experiences, form an individual's personality and risk-taking propensities. Leaders bring these attributes, their experiences, and risk attitudes into their role, all of which shape their worldview. This resultant worldview informs how they perceive incoming information about the challenges and threats faced by their states. \n",
    "\n",
    "These risk propensities and worldviews combine to shape the actual policy outcomes that determine a state's actions. Depending on the balance between democracies and authoritarian states, domestic politics could intervene, constraining the leader's available options.\n",
    "6.7.3 Factors Shaping Leaders' Decisions\n",
    "A leader's military background can significantly impact their decisions. Military service can take various forms, including combat service, long-term military roles, serving in an insurgency, partaking in military education, or experiencing military victories or losses. Civilian education, such as the formative experiences offered at boarding schools, can play a significant role.\n",
    "\n",
    "Occupational training and the particular types of individuals who self-select into these professions can shape a leader's viewpoints. Factors like an individual's upbringing also greatly matter. For instance, astonishingly, many political leaders were born out of wedlock or orphaned, and a fraction even witnessed the assassination of their parents in their childhood.\n",
    "\n",
    "Other factors like family structures, socio-economic background, mental health problems, and physical health issues also contribute significantly. An example would be President Kennedy, whose physical ailments led to mental health issues due to the medications he was prescribed.\n",
    "\n",
    "Of the specified characteristics, age, prior military experience, and prior rebel experience prove to be most influential. This information was derived from a worldwide study examining chief executives from the year 1870 onwards.\n",
    "6.7.4 Leader Risk Assessment and Conflict Probability\n",
    "Evaluating leader risk propensity and comparing it with other factors like the balance of power, concentration of power, geography, and regime type, shows the impact of leader attributes. Risk propensity formed from prior experiences significantly influences a state's likelihood of conflict. \n",
    "\n",
    "While democratic balance of power and system concentration have marginal effects (though measurable) on dispute initiation, geographic continuity has a more pronounced impact. The power of uncertainty lies with leader attributes, which change considerably over an individual's life course. \n",
    "\n",
    "The makeup of risk-taking propensity among leaders across the international system, as assessed from their life experiences, exhibits staggering variation from year to year. There are periods of significant increases and decreases, often associated with major global events.\n",
    "\n",
    "Examining the most dispute-prone leaders shows no single country dominates the list, indicating that countries can, at various times, select either highly risk-acceptant or risk-averse leaders. This underlines the varying dynamics of state behavior, influenced heavily by the leader's risk acceptance propensity. The interplay between these factors further accentuates the influence of leadership in international negotiations and conflict outcomes.\n",
    "6.7.5 Shifting Risk Propensity: A Period Analysis\n",
    "Net Assessment must consider that leaders' risk propensities are not fixed points but have the capacity to evolve over time, sometimes dramatically. Late 19th-century Europe, for instance, was marked by a cadre of risk-averse leaders, possibly contributing to the region's relative tranquility during this period. However, merely 35 or 40 years later, a change of guard saw highly risk-acceptant leaders, from states like Italy, Germany, and Austria, ascend to power. \n",
    "\n",
    "One must explore the implications of this pattern of risk propensity. On the cusp of World War II in 1938, for example, we can recognise a similar distribution of risk traits in European leadership. This change in leadership typology, particularly in Germany and Italy, telegraphed underlying shifts towards conflict preparedness. \n",
    "\n",
    "Contrasting cases can be found in other areas, as in the Middle East. In 1960, most leaders exhibited a proclivity towards risk-taking, barring Libya. However, as of 1989, Libya, under the administration of Mommar Qaddafi, demonstrated a greater risk propensity, while Egypt showed a notable downturn, reflecting the peace-oriented leadership of Anwar Saddat in interactions with Israel. \n",
    "\n",
    "Notably, the distribution of risk-acceptant leaders differs across eras. For instance, as we evaluate the geopolitical landscape at the zenith of the Cold War in 1989, one will discover a variety of states led by high-risk to low-risk leaders. Even erstwhile high-risk nations like Italy and Germany underwent paradigmatic shifts to a lower-risk spectrum by the conclusion of the conflict. \n",
    "\n",
    "6.7.6 Gender Dimensions in Risk Propensity\n",
    "Contours of gender introduce another layer of complexity into the analysis of risk propensity. High levels of gender inequality within a society, especially when women are largely excluded from leadership roles in polity or industry, often coincide with elevated levels of external conflict. This correlation is most evident in societies with low median ages and male dominance—a demographic specter colloquially known as a 'youth bulge.'\n",
    "\n",
    "At the leadership level, female leaders are, on average, slightly more risk-acceptant than their male counterparts. This pattern can be attributed to the societal pressure they might face to conform to stereotypical masculine norms. However, it is pertinent to note that broader generalizations may be premature due to the limited historical representation of women in positions of power. Therefore, it is also essential to beware of the pitfalls of overly homogenizing assessments. There is a small group of male leaders who, according to psychologically assessed behavioral traits, exhibit sociopathic tendencies. These individuals constitute a minuscule fraction of the overall leadership demographic yet account for a staggering 95% of genocidal campaigns or large-scale civilian massacres. \n",
    "\n",
    "In essence, understanding leaders' risk profiles is crucial to Net Assessment, as exemplified through leaders like Bashir al-Assad of Syria, José Figueres Ferrer of Costa Rica, Ronald Reagan of the U.S., and Paul Kagame of Rwanda. The risk propensity derived from their unique life-course experiences significantly shapes their strategic choices and their nations' trajectories. \n",
    "\n",
    "6.7.7 Underestimated Significance of Leadership in Net Assessment\n",
    "Leadership, despite its outsized influence on geopolitical outcomes, is often a grossly underappreciated factor in conventional military capability assessments. Leaders exert a more potent influence than factors traditionally underscored, such as balance of power, democratic peace, alliances, or the structure of a state's economy. Dissecting this influence and understanding its interplay with \"universal truths\" and \"context-specific factors\" lies at the heart of Net Assessment — a discipline that cannot afford simplistic, monocausal explanations. Leaders — and their risk propensities may tip the scales in international negotiation and conflict outcomes, significantly shaping the course of history.\n",
    "\"\"\"\n",
    "\n",
    "fc_sum = helpers.summarise(fc_tb)"
   ]
  },
  {
   "cell_type": "code",
   "execution_count": null,
   "metadata": {},
   "outputs": [],
   "source": [
    "print(fc_sum)"
   ]
  },
  {
   "cell_type": "code",
   "execution_count": null,
   "metadata": {},
   "outputs": [],
   "source": [
    "system_init = \"\"\"You are Rubidium. You are a world-class Geopoltical Analyst, who is extremely good at breaking down and planning comprehensive approaches to tough and complex analysis questions and research areas. You follow the concepts of Net Assessment, and you are the best in the world at Net Assessment.\n",
    "    \n",
    "Here is a reference to what Net Assessment is: Net Assessment is a strategic evaluation framework that carries considerable significance in the field of geopolitical and military analysis. It was pioneered by the Office of Net Assessment (ONA) in the United States Department of Defense in 1973, reflecting its rich historical context, but its utility today is felt beyond the shores of a single nation, offering globally pertinent insights for any entity faced with complex geopolitical dynamics. \n",
    "\n",
    "This methodical process undertakes a comparative review of a range of factors including military capabilities, technological advancements, political developments, and economic conditions among nation-states. The primary aim of Net Assessment is to identify emerging threats and opportunities, essentially laying the groundwork for informed responses to an array of possible scenarios, making it a powerful tool in modern geopolitical and military strategy.\n",
    "\n",
    "Net Assessment examines current trends, key competing factors, potential risks, and future prospects in a comparative manner. These comprehensive analyses form the bedrock of strategic predictions extending up to several decades in the future. Thus, leaders geared towards long-term security and strategic outlooks stand to benefit significantly from this indispensable tool.\n",
    "\n",
    "The framework also paves the way for diverse types of materials and findings, ranging from deeply researched assessments to concise studies, informal appraisals, and topical memos. These resources, although initially produced in a highly classified environment, have been toned down and adapted for broader strategic and policy-related debates, serving as critical inputs for decision-makers in diverse geopolitical contexts. \n",
    "\n",
    "The role of Net Assessment in shaping historical shifts in policy and strategy merits attention. Despite acknowledging its roots within the US Department Defense, it’s important to note its influence on significant decisions. For instance, it has helped draft new strategic paradigms and reverse major policy decisions, exhibiting its potential for globally-relevant strategic discourse.\"\"\"\n",
    "\n",
    "prompt = f\"The below is a summary of a lecture that teaches students how to determine all relevant Force Catalysts, which is the second aspect of the Net Assessment Framework. I would like you to come up with a technically rigorous, verbose, holistic and complete definition of what a Force Catalyst is. Your definition should be self-contained, in the sense that someone who has no idea what Force Catalysts are would be able to grasp an almost complete understanding just from reading your definition. It MUST be technically rigorous. Here is the summary: \\n\\n {fc_sum} \\n\\n\"\n",
    "\n",
    "\n",
    "\n",
    "res = helpers.call_gpt_single(system_init, prompt)\n"
   ]
  },
  {
   "cell_type": "code",
   "execution_count": null,
   "metadata": {},
   "outputs": [],
   "source": [
    "system_init = \"\"\"You are Rubidium. You are a world-class Geopoltical Analyst, who is extremely good at breaking down and planning comprehensive approaches to tough and complex analysis questions and research areas. You follow the concepts of Net Assessment, and you are the best in the world at Net Assessment.\n",
    "    \n",
    "Here is a reference to what Net Assessment is: Net Assessment is a strategic evaluation framework that carries considerable significance in the field of geopolitical and military analysis. It was pioneered by the Office of Net Assessment (ONA) in the United States Department of Defense in 1973, reflecting its rich historical context, but its utility today is felt beyond the shores of a single nation, offering globally pertinent insights for any entity faced with complex geopolitical dynamics. \n",
    "\n",
    "This methodical process undertakes a comparative review of a range of factors including military capabilities, technological advancements, political developments, and economic conditions among nation-states. The primary aim of Net Assessment is to identify emerging threats and opportunities, essentially laying the groundwork for informed responses to an array of possible scenarios, making it a powerful tool in modern geopolitical and military strategy.\n",
    "\n",
    "Net Assessment examines current trends, key competing factors, potential risks, and future prospects in a comparative manner. These comprehensive analyses form the bedrock of strategic predictions extending up to several decades in the future. Thus, leaders geared towards long-term security and strategic outlooks stand to benefit significantly from this indispensable tool.\n",
    "\n",
    "The framework also paves the way for diverse types of materials and findings, ranging from deeply researched assessments to concise studies, informal appraisals, and topical memos. These resources, although initially produced in a highly classified environment, have been toned down and adapted for broader strategic and policy-related debates, serving as critical inputs for decision-makers in diverse geopolitical contexts. \n",
    "\n",
    "The role of Net Assessment in shaping historical shifts in policy and strategy merits attention. Despite acknowledging its roots within the US Department Defense, it’s important to note its influence on significant decisions. For instance, it has helped draft new strategic paradigms and reverse major policy decisions, exhibiting its potential for globally-relevant strategic discourse.\"\"\"\n",
    "\n",
    "prompt = f\"Below I have provided an exhaustive definition of Force Catalysts, which is the third aspect of the Net Assessment Framework. I would like you to come up with a technically rigorous, verbose, holistic and complete definition of what a Force Catalyst is. Your definition should be self-contained, in the sense that someone who has no idea what Force Catalysts are would be able to grasp an almost complete understanding just from reading your definition. It MUST be technically rigorous. Here is the summary: \\n\\n {fc_sum} \\n\\n\"\n",
    "\n",
    "\n",
    "\n",
    "res = helpers.call_gpt_single(system_init, prompt)"
   ]
  },
  {
   "cell_type": "code",
   "execution_count": null,
   "metadata": {},
   "outputs": [],
   "source": [
    "cf_def = \"\"\"\n",
    "Constraints are defined as the limitations on our knowledge integral to any assessment (Chapter 3.1). They can be a result of obfuscation of data, restrictions due to limited resources, or any factor that inhibits our capacity to attain comprehensive understanding. Constraints can stem from the inaccessibility of information due to overload, or the sheer challenge of making accurate inferences based on limited or selective data (Chapter 3.3). Further, constraints are underlined by the temporal dimension of our enquiries (Chapter 3.4). Our understanding of past, current, and future scenarios is affected by the time horizon we're looking at, which in turn affects the uncertainty associated with our estimates.\n",
    "\n",
    "Frictions, on the other hand, as I explicate in \"Decoding the Concept of Friction in War\" (Chapter 7.1), encompass the array of unpredictable events that can alter outcomes in geopolitical and military environments. A theorist such as Carl von Clausewitz, saw Friction as the varied factors that could deviate the course of war or conflict from its predictable path (Chapter 7.1), leading to a probabilistic, rather than deterministic, understanding of outcomes (Chapter 7.12.4). Friction can be as profound as divergent societal identities within military forces (7.8.1), and it can also manifest in more everyday circumstances outside of war, as shown in the Border Control Incident case study (3).\n",
    "\n",
    "To contextualise Constraints and Frictions, we can consider some of the case studies from the textbook.\n",
    "\n",
    "Take, for instance, the Rwandan genocide of 1994. This historical event provides a vivid example of Constraints, as it underscores the inherent difficulties in establishing agreed upon facts for events, even in the recent past (Chapter 3.9). Despite the genocide taking place within a potentially well-documented period, uncertainties persist over something as fundamental as the number of victims. Thus, the uncertainties tied to our understanding of the past and our predictions about future events contain intrinsic constraints.\n",
    "\n",
    "In terms of Frictions, the concept was deeply embedded in our discussions on understanding the role of friction in historical events, mainly those related to conflicts and warfare. For example, in the Guadalcanal case study (11.14), where unusually tenacious combat and unexpected resistance from the Japanese Army significantly shifted the course of action required from the Marines. Still, it eventually led to heightened material escalation in the South Pacific during World War II. This case exemplifies where friction – in this case, unexpected resistance from a seemingly beaten opponent – deviated the war's course from what might have been predicted and represented a marked friction.\n",
    "\n",
    "Likewise, the Pacific Theater in World War II provides an example of both Constraints and Frictions (Chapters 11.12 and 11.13). Despite well-established laws around warfare, emotions and high-intensity conflict led to drastically increased brutalities, affecting both strategic planning and outcomes. Again, it underlines the Friction that Clausewitz, expounded upon - the unpredictable nature of warfare that often depends on human factors such as emotions and unintended consequences.\n",
    "\n",
    "Understanding and Identification of Constraints and Frictions: \n",
    "As illustrated in our Textbook Sections 3.1 and 3.3, good implementation of Constraints and Frictions requires an in-depth understanding of the restrictions and uncertainties that affect geopolitical and military analysis. An analyst should showcase an adept understanding of constraints due to factors like data obfuscation and information overload (3.3), as well as the role of time (3.4), discussed earlier during our conversation on defining Constraints and Frictions.\n",
    "\n",
    "Analytical Acumen and Questioning Skills:\n",
    "Referring to Sections 3.2, 3.15, and 7.8, an important criterion for a good Constraints and Frictions analysis lies in rigorous questioning skills and the capacity to scrutinize assertions. The analyst should be able to pose incisive questions that challenge assumptions and potentially false claims, ensuring the reliability of the presented data and insights.\n",
    "\n",
    "Comprehension of Complex Dynamics:\n",
    "Given the complexities present in geopolitical landscapes, a good analysis should exhibit the ability to understand and navigate these intricacies. It should consider the non-linearity of the combat processes (7.5), their probabilistic nature (7.11), and the impact of varied micro and macro-level factors (7.8.1), as made evident in our prior chat history.\n",
    "\n",
    "Theoretical and Conceptual Grounding:\n",
    "Drawing on Sections 3.8 and 7.8, a good analysis should implement theoretical constructs and be culturally and historically nuanced when analyzing Constraints and Frictions. The use of theories like Rational Choice Theory and the respect for historical contexts underline the theoretical foundation of a comprehensive analysis.\n",
    "\n",
    "Navigating Uncertainty & Prediction:\n",
    "As per Section 3.15, a good analysis should recognize and navigate uncertainties proficiently. The ability to confront uncertainty, especially about future prospects, manifests a well-rounded analysis. This involves treating outcomes in a probabilistic framework (7.11).\n",
    "\n",
    "Let’s delve into these criteria using our case studies:\n",
    "\n",
    "Highlighting Identification and Impact of Constraints & Frictions:\n",
    "The case study detailing World War II's Pacific theater (Chapter 10) provides an adequate example here. It demonstrates the role societal identities within military forces can play as part of frictions in warfare. Similarly, the Korean War case study illustrates how perceived power balances, and ideological underpinnings can serve as constraints.\n",
    "\n",
    "Analytical Acumen and Questioning Skills:\n",
    "In this context, the analysis of the July Crisis (Case Study 10.3.1) presents the robust questioning skill sets necessary to provide a multi-faceted analysis of a complex geopolitical event, which is an essential criterion for evaluating an analyst's work.\n",
    "\n",
    "Comprehension of Complex Dynamics:\n",
    "The discussing Germany’s Wars of Unification (Case Study 9.2) recognizes the combination of both rational and emotional factors in determining the warfare outcome. It appreciates the complexity inherent in understanding the causes and effects of geopolitical events.\n",
    "\n",
    "Theoretical and Conceptual Grounding:\n",
    "When evaluating an analyst's work, the presence of theoretically-driven analysis, like how Rational Choice Theory was used in our Future Predictions (Section 3.8), is essential. A comprehensive analyst will be able to incorporate theoretical models into their understanding and prediction of future events.\n",
    "\n",
    "Navigating Uncertainty & Prediction:\n",
    "The case studies concerning the 'Status-Quo Wars' like Vietnam and Afghan Wars (Case Study 12.14.1) highlight the uncertainty innate to Net Assessment, especially in complex geopolitical situations where measuring success becomes challenging. An analyst should be able to operate with this level of uncertainty and productively channel it into their predictions and models.\n",
    "\"\"\""
   ]
  },
  {
   "cell_type": "code",
   "execution_count": null,
   "metadata": {},
   "outputs": [],
   "source": [
    "system_init = \"\"\"You are Rubidium. You are a world-class Geopoltical Analyst, who is extremely good at breaking down and planning comprehensive approaches to tough and complex analysis questions and research areas. You follow the concepts of Net Assessment, and you are the best in the world at Net Assessment.\n",
    "    \n",
    "Here is a reference to what Net Assessment is: Net Assessment is a strategic evaluation framework that carries considerable significance in the field of geopolitical and military analysis. It was pioneered by the Office of Net Assessment (ONA) in the United States Department of Defense in 1973, reflecting its rich historical context, but its utility today is felt beyond the shores of a single nation, offering globally pertinent insights for any entity faced with complex geopolitical dynamics. \n",
    "\n",
    "This methodical process undertakes a comparative review of a range of factors including military capabilities, technological advancements, political developments, and economic conditions among nation-states. The primary aim of Net Assessment is to identify emerging threats and opportunities, essentially laying the groundwork for informed responses to an array of possible scenarios, making it a powerful tool in modern geopolitical and military strategy.\n",
    "\n",
    "Net Assessment examines current trends, key competing factors, potential risks, and future prospects in a comparative manner. These comprehensive analyses form the bedrock of strategic predictions extending up to several decades in the future. Thus, leaders geared towards long-term security and strategic outlooks stand to benefit significantly from this indispensable tool.\n",
    "\n",
    "The framework also paves the way for diverse types of materials and findings, ranging from deeply researched assessments to concise studies, informal appraisals, and topical memos. These resources, although initially produced in a highly classified environment, have been toned down and adapted for broader strategic and policy-related debates, serving as critical inputs for decision-makers in diverse geopolitical contexts. \n",
    "\n",
    "The role of Net Assessment in shaping historical shifts in policy and strategy merits attention. Despite acknowledging its roots within the US Department Defense, it’s important to note its influence on significant decisions. For instance, it has helped draft new strategic paradigms and reverse major policy decisions, exhibiting its potential for globally-relevant strategic discourse.\"\"\"\n",
    "\n",
    "prompt = f\"\"\"Below you will find a rigorous definition of Alliances and Laws,the fourth step in the Net Assessment Analysis framework. You will also find a verbose evaluation criteria for it. I would like you to translate this into a tangible, exhaustive assessment criteria of a good set of Alliances and Laws that focuses on tangible qualities that can be evaluated and improved upon by the analyst in an iterative development environment. To reiterate, your feedback must be workable, and so the assessment criteria that you are providing must also focus on tangibles. This assessment criteria will be used to evaluate a Net Assesor's Alliances and Laws portion of their analysis, which is going to concern up to date, globally significant areas of interest. Your criteria should follow the following format (this is a sample criteria for Material Facts, the first part of the Net Assessment Analysis Framework)\\n\\nCAlliances and Laws definition and criteria:\\n{al_def}\\n\\n{al_cri}\\n\\nSample Criteria (Material Facts):\n",
    "\n",
    "1. Technical Detail:\n",
    "    a. Are the Actor's points technically detailed enough? Has he captured all of the relevant technical details? If not, point out which points do not have enough technical detail.\n",
    "    b. Points that the Actor has expressed should not be vague or sweeping statements. They should be as clear as possible, speaking directly to the context they are delivering the point in, and should not assume that the reader understands context or underlying assumptions.\n",
    "2. Coherence:\n",
    "    a. Are all of the points that the Actor is making syntactically consistent? If not, point of which points are not syntactically consistent, and explain to him how he could improve them.\n",
    "    b. Do any points contradict each other (if they are in different contexts, then they clearly do not. Use your best judgement).\n",
    "    c. Is the Actor's argument cohesive? Are there any points where the points the Actor is making do not follow from the previous points? If so, point out which points are incoherent, and explain to him how he could improve them.\n",
    "    d. Is the entire argument coherent? Does the argument make sense? Is he making any big logical leaps, or are there any areas that he should have covered that he has not? If so, point out which areas he should have covered, and explain to him how he could improve them.\n",
    "3. Knowledge Coverage:\n",
    "    a. Take a look at the information provided. Is there anything that the Actor has missed out that he might be able to use? If so, point out which points the Actor has missed out.\n",
    "    b. Keep in mind that the same piece of knowledge can be used in different contexts. If there are other where the Actor might be able to use a piece of information, even if he has used it before, point it out to him.\n",
    "    \n",
    "Arguably, the most important part of finding Material Facts is technical detail. Therefore, you must directly point out any statistics that were missed and not included by the Actor. You must emphasise to them that it is extremely important that they include the details provided in full technical depth. Lastly, one of the most important part is the context in which you are making this criticism. This particular section of the analysis is about the Material Facts section of a Net Assessment Analysis. Below, you have been given the definition of Material Facts, and you should use this to guide your criticism.\n",
    "\"\"\"\n",
    "\n",
    "fc_criteria = helpers.call_gpt_single(system_init, prompt)\n",
    "\n",
    "print(fc_criteria)"
   ]
  },
  {
   "cell_type": "code",
   "execution_count": null,
   "metadata": {},
   "outputs": [],
   "source": [
    "al_def = \"\"\"Alliances\n",
    "\n",
    "        Alliances are formalized relationships forged between two or more entities, ranging from sovereign nation-states to organizations, corporations, and other establishments, with the primary intent of advancing mutual interests, achieving common goals, and enhancing collective capacities. Although traditionally associated with military coordination and strategic defense, alliances encapsulate a much broader spectrum of cooperative engagements, including economic partnerships, scientific collaborations, and environmental agreements, among others.\n",
    "\n",
    "        Key characteristics of alliances include:\n",
    "\n",
    "        1. Contractual Nature: Alliances are typically entrenched within written agreements or treaties that stipulate the commitments, expectations, and frameworks of cooperation among the parties, ensuring clarity and binding authority over the terms of collaboration.\n",
    "        2. Mutual Benefit: An essential tenet of alliances is reciprocity, wherein each party expects to derive advantages, whether immediate or long-term, that justify their contribution and involvement in the alliance.\n",
    "        3. Resource Sharing: By pooling resources such as knowledge, technology, finances, or personnel, alliances foster a synergistic approach to addressing challenges or capitalizing on opportunities that might be beyond the scope of single entities.\n",
    "        4. Diplomatic Influence: Alliances exert influence on the international stage, often swaying diplomatic negotiations and collective actions, and serving as a mechanism to enhance the global stature and reach of their members.\n",
    "        5. Strategic Deterrence: Especially in security-oriented alliances, the combined capabilities of members serve as a deterrent against aggressors, thus underpinning regional or global stability.\n",
    "        6. Trust and Reliability: The effectiveness of an alliance hinges on the trustworthiness and reliability of its members to fulfill their obligations, particularly in times of need or crisis.\n",
    "        7. Adaptability: Alliances must remain adaptable to evolving circumstances, requiring periodic renegotiation and restructuring to remain relevant and effective in a dynamic environment.\n",
    "        8. Challenges: Conflicting interests, asymmetry in power dynamics, and changing geopolitical landscapes pose significant challenges to the longevity and cohesion of alliances.\n",
    "\n",
    "        Laws\n",
    "\n",
    "        Laws, in their most expansive sense, constitute the codified rules and principles that govern the conduct of individuals, entities, and states within a given framework or system. These laws are established to maintain order, uphold justice, mitigate conflicts, and protect the rights and interests of stakeholders. They emanate from an intricate network of legislations, regulations, conventions, and mutual agreements and encapsulate both domestic and international contexts.\n",
    "\n",
    "        The essence of laws includes:\n",
    "        1. Regulatory Framework: Laws provide the regulatory structure within which entities must operate, delineating permissible actions and sanctions for non-compliance, thus fostering predictability and stability.\n",
    "        2. Conflict Resolution: They serve as the formal mechanism for resolving disputes objectively, based on established criteria and principles rather than arbitrary or biased judgments.\n",
    "        3. Ethical and Moral Standards: Laws often reflect the ethical and moral standards of a society or community, translating these values into enforceable norms.\n",
    "        4. Rights Protection: By establishing legal rights and duties, laws enable the protection of individual, group, and state interests against infringement or harm.\n",
    "        5. Accountability: They hold actors accountable for their actions, ensuring that violations are addressed and appropriate remedial actions or penalties are applied.\n",
    "        6. Dynamic Evolution: Laws are dynamic, evolving with social, technological, and political developments to remain congruent with contemporary issues and challenges.\n",
    "        7. International Order: International laws, including those governing conflicts, facilitate a cooperative international order, provide frameworks for peaceful coexistence, and manage relations between nation-states.\n",
    "        8. Implementation Challenges: The application and enforcement of laws can be complex, contingent on effective judicial and administrative systems and the willing adherence by the relevant actors.\n",
    "\n",
    "        Importance to Net Assessment:\n",
    "\n",
    "        Understanding the workings of Alliances and Laws is pivotal to the process of Net Assessment. Alliances not only influence strategic decisions and power equations but also reflect the collective resolve and capability to address potential threats or to leverage opportunities in pursuit of shared objectives. They can both enable and constrain actions, based on their nature and dynamics, representing key variables in any comprehensive strategic analysis.\n",
    "\n",
    "        Laws shape the permissible conduct within and between entities, providing a basis upon which scenarios are planned and actions are justified or criticized. They inform the risk calculus of operational strategies, help anticipate responses to various initiatives, and offer a frame to reconcile international objectives with compliance to normative standards.\n",
    "\n",
    "        A deep and nuanced understanding of Alliances and Laws, with their multifaceted implications, enables Net Assessors to predict the behavior of actors within the global system, discern potential fault lines or cooperative potentials, and advise on plausible strategic postures. They convey the operational environment’s complexity, which is integral to comprehensive assessments and the formulation of long-term strategic visions.\"\"\"\n",
    "        \n",
    "al_cri = f\"\"\"\n",
    "Alliances\n",
    "\n",
    "In the most comprehensive sense, alliances are multilateral or bilateral pacts established with the foresight of pooling strengths, resources, and expertise to establish a collective front that can be wielded for a multitude of strategic objectives. These objectives transcend mere military cooperation, extending into realms of economic progression, research and technological advancement, social development, and overall empowerment of the involved parties within the global framework. Alliances engender benefits through collaboration rather than isolated effort, offering a competitive edge within the interconnected world matrix by operationalizing shared values and goals.\n",
    "\n",
    "Criteria for Evaluating Alliances:\n",
    "\n",
    "1. Formation Rationale: The context, motivations, and objectives underlying the formulation of an alliance, with emphasis on the strategic foresight that led to its initiation.\n",
    "2. Structural Integrity: The clear delineation of roles, capacities, and responsibilities assigned to each member, ensuring operational efficiency and equity in the distribution of alliance-derived benefits.\n",
    "3. Strategic Consonance: The alignment of individual member goals with collective alliance objectives, fostering a harmonious operational environment.\n",
    "4. Diplomatic Cohesion: The capacity of the alliance to present a unified front in international arenas, enhancing the diplomatic leverage of each member.\n",
    "5. Economic Viability: The provision of economic maximization opportunities for each member, including trade benefits, cost-sharing mechanisms, and collaborative investments.\n",
    "6. Technological and Resource Symmetry: The equitable access to, and sharing of, technological innovations and resources among alliance members.\n",
    "7. Cultural and Ideological Compatibility: The acknowledgment and incorporation of cultural diversity and ideological preferences leading to a resilient and respectful partnership.\n",
    "8. Adaptive Governance: The capacity for iterative self-evaluation and reform to meet emerging global challenges and opportunities.\n",
    "9. Resilience and Crisis Response: The ability of the alliance to withstand internal and external shocks, and the robustness of its collective crisis mitigation and management strategy.\n",
    "10. Regulatory Compliance: Adherence to international laws and norms, respecting the legal frameworks that govern alliance activities.\n",
    "\n",
    "Laws\n",
    "\n",
    "Laws represent the embodiment of collective conscience, codifying behaviors and interactions that sustain order, fairness, and functional harmony among and within diverse entities. They encompass regulations governing individual conduct, business operations, geopolitical engagements, and environmental stewardship, to name a few. Laws are the invisible sinews that knit together the tapestry of global order, providing the substrate upon which societal norms rest and evolve.\n",
    "\n",
    "Criteria for Evaluating Laws:\n",
    "\n",
    "1. Legislative Clarity: The precision, specificity, and intelligibility of laws, ensuring they are comprehensible and enforceable.\n",
    "2. Universal Applicability: The extent to which laws are equitable and non-discriminatory, offering uniform application and protection.\n",
    "3. Conflict Mitigation: The effectiveness of legal provisions in preempting and resolving conflicts.\n",
    "4. Ethical Foundations: The reflections of moral imperatives and societal ethics within the law.\n",
    "5. Rights Assurance: The capability of laws to define, ensure, and protect the rights of individuals and collective entities.\n",
    "6. Balanced Accountability: The fairness in imposing obligations and repercussions, enabling proportionate accountability.\n",
    "7. Progressive Adaptability: The capacity of laws to evolve with changing societal needs, technological frontiers, and global circumstances.\n",
    "8. Judicial and Administrative Feasibility: The practicability of implementing laws through available judicial and administrative mechanisms.\n",
    "9. Compliance and Enforcement Mechanisms: The practicality and effectiveness of measures put in place to encourage adherence and respond to violations.\n",
    "\n",
    "Importance to Net Assessment:\n",
    "\n",
    "Incorporating an expansive understanding of Alliances and Laws into Net Assessment equips analysts with the tools to predict and anticipate shifts in geopolitical trends, giving them an edge in strategic positioning and long-term planning. Stringent analysis of alliances exposes leverage points for collaboration, potential fault lines for discord, and spheres of influence that can shape international conduct. The understanding of laws provides the structured format within which entities operate and engage, framing the permissible actions and setting the stage for accountability. \n",
    "\n",
    "Together, these two constructs - Alliances and Laws - offer a comprehensive picture of both the material and immaterial dimensions of international relations, essential for holistic Net Assessment. It is the interplay between these dynamic and multifaceted elements that ultimately confers strategic advantage, shaping the global operational environment within which entities craft their futures. An all-encompassing study of these aspects is crucial in painting a complete picture of the strategic landscape, enabling the foreseeing of potential conflict points and windows of opportunity that are central to strategic efficacy.\n",
    "\"\"\""
   ]
  },
  {
   "cell_type": "code",
   "execution_count": null,
   "metadata": {},
   "outputs": [],
   "source": [
    "prompt = f\"\"\"\n",
    "The following definition of Alliances and Laws were taken from the Net Assessment Textbook. I would like you to come up with an objective, context independent definition of Alliances and Laws that is widely applicable to any domain in the world. i.e. It should not focus on military aspects as its only context, but be widely applicable. I would like your definition to be as exhaustive and verbose and detailed as possible, since that is key. At the end, you should conclude with why Alliances and Laws is important to the process of Net Assessment.\n",
    "\n",
    "Here is the definition from the textbook:\n",
    "{al_def}\n",
    "\"\"\"\n",
    "edited_cf = helpers.call_gpt_single(system_init, prompt)\n",
    "print(edited_cf)"
   ]
  },
  {
   "cell_type": "code",
   "execution_count": null,
   "metadata": {},
   "outputs": [],
   "source": [
    "prompt = f\"\"\"\n",
    "The following criteria for evaluating Alliances and Laws were taken from the Net Assessment Textbook. I would like you to come up with an objective, context independent criteria of Alliances and Laws that is widely applicable to any domain in the world. i.e. It should not focus on military aspects as its only context, but be widely applicable. I would like your definition to be as exhaustive and verbose and detailed as possible, since that is key. At the end, you should conclude with why Alliances and Laws is important to the process of Net Assessment.\n",
    "\n",
    "Here is the definition from the textbook:\n",
    "{al_def}\n",
    "\n",
    "Here is the criteria:\n",
    "{al_cri}\n",
    "\"\"\"\n",
    "edited_cf = helpers.call_gpt_single(system_init, prompt)\n",
    "print(edited_cf)"
   ]
  },
  {
   "cell_type": "code",
   "execution_count": null,
   "metadata": {},
   "outputs": [],
   "source": [
    "importlib.reload(rubidium)\n",
    "\n",
    "start_time = time.time()\n",
    "acruby = rubidium.ActorCriticRuby(recurrence_count=2)\n",
    "\n",
    "res = acruby.get_force_catalysts(sample_info, sample_qn, sample_persona)\n",
    "print(f\"time taken: {format((time.time() - start_time), '.4f')}  seconds\")\n",
    "\n",
    "with open(\"fc_ac.txt\", \"w\") as f:\n",
    "    f.write(res)"
   ]
  },
  {
   "cell_type": "code",
   "execution_count": null,
   "metadata": {},
   "outputs": [],
   "source": [
    "importlib.reload(rubidium)\n",
    "\n",
    "with open(\"first_fc.txt\", \"r\") as f:\n",
    "    first_piece = f.read()\n",
    "    \n",
    "with open(\"fc_ac.txt\", \"r\") as f:\n",
    "    second_piece = f.read()\n",
    "\n",
    "check_node = rubidium.ActorCriticRuby()\n",
    "\n",
    "prompt = f\"\"\"\n",
    "I am going to give you two different pieces of text below that concern Force Catalysts from two different Net Assessment analysts. Both of these Analysts were asked to identify the Force Catalysts in the below provided information. I want you to determine which one is better, and tell me why. Your assessment should be exhaustive and holistic.\n",
    "\n",
    "Here is a definition of Force Catalysts:\n",
    "{check_node.force_catalysts_description}\n",
    "\n",
    "Here is the first piece of analyst output:\n",
    "{first_piece}\n",
    "\n",
    "Here is the second piece of analyst output:\n",
    "{second_piece}\n",
    "\"\"\"\n",
    "\n",
    "res = helpers.call_gpt_single(check_node.system_init, prompt)\n",
    "print(res)"
   ]
  },
  {
   "cell_type": "code",
   "execution_count": null,
   "metadata": {},
   "outputs": [],
   "source": [
    "test = rubidium.ActorCriticRuby()\n",
    "\n",
    "prompt = \"\"\"\n",
    "What is the difference between the following three definitions of Net Assessment? Secondly, how do these compare to what you know Net Assessment to be? The definition that you know it to be has been provided to you below as well. After answering the previous two questions, I would like you to combine the best definition with your own definition to create a new definition of Net Assessment. Net Assessment should also be a global tool with no specific country or context underpinning its objective analysis. As such, your definition must avoid nationalist concepts or references, unless they are used for a purely historical reference point and example. You must be as verbose and detailed as possible, covering all aspects that each of the seperate definitions have covered, because this definition should be self-contained, in the sense that someone who has no idea what Net Assessment is would be able to grasp an almost complete understanding just from reading your definition. You should focus more, and expand in extreme detail, on the application and impact of applying Net Assessment. It MUST be technically rigorous. Here are the three definitions, and your definition:\n",
    "\n",
    "Definition 1:\n",
    "Net Assessment uses a framework for employing comparative analysis of cultural, \thistorical, economic, political and security factors - without opening assumption and \topinion - to develop and present a comprehensive understanding of definitions, outcomes \tand trajectories at a designated future space and time.  Net Assessment develops as a tool \tto analyse the intention of parties in conflicting situations.   Net assessment is a \tframework to be used to develop strategy and policy considerations.  It is essentially the \tanalysis or and potential response to ‘what-if’ scenarios.\n",
    "\n",
    "The Net Assessment offers leaders understanding and language that can be used with \tconstituents for support in negotiations, policy development and execution of decisions.\n",
    "\n",
    "Definition 2:\n",
    "Net Assessment uses a framework for employing comparative analysis of cultural, \thistorical, economic, political, technological and security factors - without \tassumption \tand opinion - to develop and present a comprehensive understanding of definitions, \toutcomes and trajectories at a designated future space and time.  \n",
    "\n",
    "The Net Assessment is developed as a tool to analyze the assessed intention of parties in \t\tconflicting situations.  Net assessment is a framework to be used to develop strategy and \t\tpolicy considerations.  It is essentially the analysis or and potential response to ‘what-if’ \t\tscenarios.\n",
    "\n",
    "The Net Assessment offers leaders an understanding and language that can be used with \t\tconstituents to gain support in negotiations, policy development and execution of \tdecisions.\n",
    "\n",
    "Definition 3:\n",
    "Net Assessment uses a framework for employing comparative analysis of cultural, \thistorical, economic, political, technological and security factors - without \tassumption \tand opinion - to develop and present a comprehensive understanding of definitions, \toutcomes and trajectories at a designated future space and time.  \n",
    "\n",
    "The Net Assessment is developed as a tool to analyze the assessed intentions of parties in \t\tconflicting situations.  Net assessment is a framework to be used to develop strategy and \t\tpolicy considerations.  It is essentially the analysis and potential response to ‘what-if’ \t\tscenarios.\n",
    "\n",
    "The Net Assessment offers leaders an understanding and language that can be used with \t\tconstituents to gain support in negotiations, policy development and execution of \tdecisions.\n",
    "\n",
    "Your definition:\n",
    "Net Assessment is a strategic evaluation framework that carries considerable significance in the field of geopolitical and military analysis. It was pioneered by the Office of Net Assessment (ONA) in the United States Department of Defense in 1973, reflecting its rich historical context, but its utility today is felt beyond the shores of a single nation, offering globally pertinent insights for any entity faced with complex geopolitical dynamics. \n",
    "\n",
    "This methodical process undertakes a comparative review of a range of factors including military capabilities, technological advancements, political developments, and economic conditions among nation-states. The primary aim of Net Assessment is to identify emerging threats and opportunities, essentially laying the groundwork for informed responses to an array of possible scenarios, making it a powerful tool in modern geopolitical and military strategy.\n",
    "\n",
    "Net Assessment examines current trends, key competing factors, potential risks, and future prospects in a comparative manner. These comprehensive analyses form the bedrock of strategic predictions extending up to several decades in the future. Thus, leaders geared towards long-term security and strategic outlooks stand to benefit significantly from this indispensable tool.\n",
    "\n",
    "The framework also paves the way for diverse types of materials and findings, ranging from deeply researched assessments to concise studies, informal appraisals, and topical memos. These resources, although initially produced in a highly classified environment, have been toned down and adapted for broader strategic and policy-related debates, serving as critical inputs for decision-makers in diverse geopolitical contexts. \n",
    "\n",
    "The role of Net Assessment in shaping historical shifts in policy and strategy merits attention. Despite acknowledging its roots within the US Department Defense, it’s important to note its influence on significant decisions. For instance, it has helped draft new strategic paradigms and reverse major policy decisions, exhibiting its potential for globally-relevant strategic discourse.\n",
    "\"\"\"\n",
    "\n",
    "res = helpers.call_gpt_single(test.system_init, prompt)\n",
    "\n",
    "with open(\"na_def.txt\", \"w\") as f:\n",
    "    f.write(res)"
   ]
  },
  {
   "cell_type": "code",
   "execution_count": null,
   "metadata": {},
   "outputs": [],
   "source": [
    "import helpers\n",
    "\n",
    "with open(\"temp.txt\", \"r\") as f:\n",
    "    report = f.read()\n",
    "    \n",
    "summary = helpers.summarise(report)\n",
    "\n",
    "with open(\"tempsum.txt\", \"w\") as f:\n",
    "    f.write(summary)"
   ]
  },
  {
   "cell_type": "code",
   "execution_count": null,
   "metadata": {},
   "outputs": [],
   "source": [
    "import helpers\n",
    "sys_init = \"default\"\n",
    "qn = \"what kind of model are you?\"\n",
    "\n",
    "ans = helpers.call_gpt_single(sys_init, qn)\n",
    "print(ans)"
   ]
  },
  {
   "cell_type": "code",
   "execution_count": 6,
   "metadata": {},
   "outputs": [],
   "source": [
    "import rubidium\n",
    "import importlib\n",
    "import time"
   ]
  },
  {
   "cell_type": "code",
   "execution_count": 9,
   "metadata": {},
   "outputs": [
    {
     "name": "stdout",
     "output_type": "stream",
     "text": [
      "executing plan_approach, using model gpt-4-1106-preview\n",
      "done executing plan_approach. Took 18.5767 seconds.\n",
      "Approach: To assess the potential impact of Taiwan's election outcomes on East Asian geopolitical dynamics, especially regarding cross-Strait relations with mainland China, we need to analyze the political stance and policy orientation of the leading candidates and their parties. We should explore how these could alter Taiwan's domestic policies and its approach towards China, as well as how China is likely to respond. We also need to evaluate the historical patterns of cross-Strait relations, the current status of China's economic zones, existing regional alliances, and international economic dependencies to predict possible shifts in regional power structures and economic ties.\n",
      "\n",
      "Actions:\n",
      "[RESEARCH] Review the political profiles of leading candidates in the Taiwan elections and their parties' platforms\n",
      "[RESEARCH] Analyze historical Taiwan election results and their subsequent impact on cross-Strait relations\n",
      "Identify key policies that affect mainland China-Taiwan relations, such as trade, defense, and foreign policy alignments\n",
      "[RESEARCH] Assess public opinion and media narratives within Taiwan on cross-Strait relations\n",
      "[RESEARCH] Investigate past cross-Strait crises and resolutions for identifying patterns and precedents\n",
      "Evaluate the economic influence of China's economic zones and China’s potential economic leverage over Taiwan\n",
      "[RESEARCH] Study the economic interdependence between Taiwan and mainland China, including mutual investments and supply chain linkages\n",
      "[RESEARCH] Track the influence of U.S. policy on Taiwan and cross-Strait dynamics, assessing factors such as arms sales, diplomatic engagement, and legal frameworks like the Taiwan Relations Act\n",
      "Examine regional security pacts (e.g., the Quadrilateral Security Dialogue) and the stances of member states on Taiwan's status\n",
      "[RESEARCH] Analyze the potential impact of Taiwan's domestic policy shifts on East Asian countries’ economic relations and collective security structures.\n",
      "[RESEARCH] Investigate the potential for diplomatic changes by other countries in the region reacting to a shift in Taiwan's government or policies\n",
      "[RESEARCH] Assess global economic trends and the role of East Asia within this context to gauge the international significance of a shift in cross-Strait relations\n",
      "[RESEARCH] Explore scenario-based analyses and war-gaming exercises that may predict China's military or non-military response to various election outcomes in Taiwan\n",
      "Synthesize findings on the interplay between Taiwan's election outcomes and broader geopolitical and economic trends in East Asia\n",
      "Develop a set of potential future scenarios reflecting different election outcomes and their likely impacts on cross-Strait relations and regional order\n",
      "[RESEARCH] Assess the resilience of East Asian economies and political systems to potential shocks from changes in cross-Strait relations.\n",
      "With all that information, I have enough to come up with a comprehensive assessment of how Taiwan elections and their outcomes could shift the East Asian geopolitical order, focusing specifically on cross-Strait relations.\n",
      "executing parse_plan, using model gpt-4-1106-preview\n",
      "done executing parse_plan. Took 11.0266 seconds.\n"
     ]
    },
    {
     "data": {
      "application/vnd.jupyter.widget-view+json": {
       "model_id": "2412be7bf0e047f7adef28e9e3d95ccc",
       "version_major": 2,
       "version_minor": 0
      },
      "text/plain": [
       "action to sq:   0%|          | 0/16 [00:00<?, ?it/s]"
      ]
     },
     "metadata": {},
     "output_type": "display_data"
    },
    {
     "name": "stdout",
     "output_type": "stream",
     "text": [
      "executing prune_searches, using model gpt-4-1106-preview\n",
      "done executing prune_searches. Took 15.8866 seconds.\n"
     ]
    },
    {
     "data": {
      "application/vnd.jupyter.widget-view+json": {
       "model_id": "4450103743204449be636b1cc45c8cbb",
       "version_major": 2,
       "version_minor": 0
      },
      "text/plain": [
       "othernews_search link getting thread joining:   0%|          | 0/3 [00:00<?, ?it/s]"
      ]
     },
     "metadata": {},
     "output_type": "display_data"
    },
    {
     "data": {
      "application/vnd.jupyter.widget-view+json": {
       "model_id": "297fce5e69fe4a58b9ff6d5369a040f8",
       "version_major": 2,
       "version_minor": 0
      },
      "text/plain": [
       "othernews_search link getting thread joining:   0%|          | 0/3 [00:00<?, ?it/s]"
      ]
     },
     "metadata": {},
     "output_type": "display_data"
    },
    {
     "data": {
      "application/vnd.jupyter.widget-view+json": {
       "model_id": "a0449f4dba0c480fa5e4cd15534568ee",
       "version_major": 2,
       "version_minor": 0
      },
      "text/plain": [
       "othernews_search link getting thread joining:   0%|          | 0/3 [00:00<?, ?it/s]"
      ]
     },
     "metadata": {},
     "output_type": "display_data"
    },
    {
     "data": {
      "application/vnd.jupyter.widget-view+json": {
       "model_id": "52199aa9748c4e2d825515d773d35b7c",
       "version_major": 2,
       "version_minor": 0
      },
      "text/plain": [
       "othernews_search link getting thread joining:   0%|          | 0/3 [00:00<?, ?it/s]"
      ]
     },
     "metadata": {},
     "output_type": "display_data"
    },
    {
     "data": {
      "application/vnd.jupyter.widget-view+json": {
       "model_id": "ebf0ca3daacb468b96ebcf0bfd0dc2eb",
       "version_major": 2,
       "version_minor": 0
      },
      "text/plain": [
       "othernews_search link getting thread joining:   0%|          | 0/3 [00:00<?, ?it/s]"
      ]
     },
     "metadata": {},
     "output_type": "display_data"
    },
    {
     "data": {
      "application/vnd.jupyter.widget-view+json": {
       "model_id": "75e96bf601914715864e108fedf99269",
       "version_major": 2,
       "version_minor": 0
      },
      "text/plain": [
       "othernews_search link getting thread joining:   0%|          | 0/3 [00:00<?, ?it/s]"
      ]
     },
     "metadata": {},
     "output_type": "display_data"
    },
    {
     "data": {
      "application/vnd.jupyter.widget-view+json": {
       "model_id": "83e69a502a754c5f9bf89a518b8dea5b",
       "version_major": 2,
       "version_minor": 0
      },
      "text/plain": [
       "othernews_search link getting thread joining:   0%|          | 0/3 [00:00<?, ?it/s]"
      ]
     },
     "metadata": {},
     "output_type": "display_data"
    },
    {
     "data": {
      "application/vnd.jupyter.widget-view+json": {
       "model_id": "57d7e7c975a84df4a7d102c4df01fa28",
       "version_major": 2,
       "version_minor": 0
      },
      "text/plain": [
       "othernews_search link getting thread joining:   0%|          | 0/3 [00:00<?, ?it/s]"
      ]
     },
     "metadata": {},
     "output_type": "display_data"
    },
    {
     "data": {
      "application/vnd.jupyter.widget-view+json": {
       "model_id": "037a724adffd4eb6aa226edda46ef4b4",
       "version_major": 2,
       "version_minor": 0
      },
      "text/plain": [
       "othernews_search link getting thread joining:   0%|          | 0/3 [00:00<?, ?it/s]"
      ]
     },
     "metadata": {},
     "output_type": "display_data"
    },
    {
     "data": {
      "application/vnd.jupyter.widget-view+json": {
       "model_id": "31d38eaba8e64bccb3e63060c29d5063",
       "version_major": 2,
       "version_minor": 0
      },
      "text/plain": [
       "othernews_search link getting thread joining:   0%|          | 0/3 [00:00<?, ?it/s]"
      ]
     },
     "metadata": {},
     "output_type": "display_data"
    },
    {
     "data": {
      "application/vnd.jupyter.widget-view+json": {
       "model_id": "1e9c701d5a884a46b6843416e5d567cb",
       "version_major": 2,
       "version_minor": 0
      },
      "text/plain": [
       "othernews_search link getting thread joining:   0%|          | 0/3 [00:00<?, ?it/s]"
      ]
     },
     "metadata": {},
     "output_type": "display_data"
    },
    {
     "data": {
      "application/vnd.jupyter.widget-view+json": {
       "model_id": "94f2a1a04f9b456a93c46b7669ed49fb",
       "version_major": 2,
       "version_minor": 0
      },
      "text/plain": [
       "othernews_search link getting thread joining:   0%|          | 0/3 [00:00<?, ?it/s]"
      ]
     },
     "metadata": {},
     "output_type": "display_data"
    },
    {
     "data": {
      "application/vnd.jupyter.widget-view+json": {
       "model_id": "c0f67cad40a8447b92477a91559152ca",
       "version_major": 2,
       "version_minor": 0
      },
      "text/plain": [
       "othernews_search link getting thread joining:   0%|          | 0/3 [00:00<?, ?it/s]"
      ]
     },
     "metadata": {},
     "output_type": "display_data"
    },
    {
     "data": {
      "application/vnd.jupyter.widget-view+json": {
       "model_id": "434904565f0c4f4299387fd9d9844ce2",
       "version_major": 2,
       "version_minor": 0
      },
      "text/plain": [
       "othernews_search link getting thread joining:   0%|          | 0/3 [00:00<?, ?it/s]"
      ]
     },
     "metadata": {},
     "output_type": "display_data"
    },
    {
     "data": {
      "application/vnd.jupyter.widget-view+json": {
       "model_id": "5f9bf88dac244cae977c164a57d736e4",
       "version_major": 2,
       "version_minor": 0
      },
      "text/plain": [
       "othernews_search link getting thread joining:   0%|          | 0/3 [00:01<?, ?it/s]"
      ]
     },
     "metadata": {},
     "output_type": "display_data"
    },
    {
     "data": {
      "application/vnd.jupyter.widget-view+json": {
       "model_id": "3637f31797b7493b94b5363954592e5b",
       "version_major": 2,
       "version_minor": 0
      },
      "text/plain": [
       "othernews_search link getting thread joining:   0%|          | 0/3 [00:00<?, ?it/s]"
      ]
     },
     "metadata": {},
     "output_type": "display_data"
    },
    {
     "data": {
      "application/vnd.jupyter.widget-view+json": {
       "model_id": "7b00dc91d14e419b82bcf8d76d2c9073",
       "version_major": 2,
       "version_minor": 0
      },
      "text/plain": [
       "othernews_search link getting thread joining:   0%|          | 0/3 [00:00<?, ?it/s]"
      ]
     },
     "metadata": {},
     "output_type": "display_data"
    },
    {
     "data": {
      "application/vnd.jupyter.widget-view+json": {
       "model_id": "c71477a305a54facad05097b25f7e455",
       "version_major": 2,
       "version_minor": 0
      },
      "text/plain": [
       "othernews_search link getting thread joining:   0%|          | 0/3 [00:00<?, ?it/s]"
      ]
     },
     "metadata": {},
     "output_type": "display_data"
    },
    {
     "data": {
      "application/vnd.jupyter.widget-view+json": {
       "model_id": "fa4d2a988b4e4808b2cb2df037260324",
       "version_major": 2,
       "version_minor": 0
      },
      "text/plain": [
       "othernews_search link getting thread joining:   0%|          | 0/3 [00:00<?, ?it/s]"
      ]
     },
     "metadata": {},
     "output_type": "display_data"
    },
    {
     "data": {
      "application/vnd.jupyter.widget-view+json": {
       "model_id": "46c3fe4c59234575821d9f5258ae340f",
       "version_major": 2,
       "version_minor": 0
      },
      "text/plain": [
       "othernews_search link getting thread joining:   0%|          | 0/3 [00:01<?, ?it/s]"
      ]
     },
     "metadata": {},
     "output_type": "display_data"
    },
    {
     "data": {
      "application/vnd.jupyter.widget-view+json": {
       "model_id": "2ed442427e2b432e939c68e9e248d652",
       "version_major": 2,
       "version_minor": 0
      },
      "text/plain": [
       "othernews_search link getting thread joining:   0%|          | 0/3 [00:00<?, ?it/s]"
      ]
     },
     "metadata": {},
     "output_type": "display_data"
    },
    {
     "data": {
      "application/vnd.jupyter.widget-view+json": {
       "model_id": "1b2b080ce34b4d5bac434c34cda8c3f2",
       "version_major": 2,
       "version_minor": 0
      },
      "text/plain": [
       "othernews_search link getting thread joining:   0%|          | 0/3 [00:00<?, ?it/s]"
      ]
     },
     "metadata": {},
     "output_type": "display_data"
    },
    {
     "data": {
      "application/vnd.jupyter.widget-view+json": {
       "model_id": "a83c97b8e52c4827a7c4008223cc2fcc",
       "version_major": 2,
       "version_minor": 0
      },
      "text/plain": [
       "othernews_search link getting thread joining:   0%|          | 0/3 [00:00<?, ?it/s]"
      ]
     },
     "metadata": {},
     "output_type": "display_data"
    },
    {
     "data": {
      "application/vnd.jupyter.widget-view+json": {
       "model_id": "e703659662324b2eab01cd1a679920b4",
       "version_major": 2,
       "version_minor": 0
      },
      "text/plain": [
       "othernews_search link getting thread joining:   0%|          | 0/3 [00:00<?, ?it/s]"
      ]
     },
     "metadata": {},
     "output_type": "display_data"
    },
    {
     "data": {
      "application/vnd.jupyter.widget-view+json": {
       "model_id": "9fcbb3a911e840a29d21ffbf542915d8",
       "version_major": 2,
       "version_minor": 0
      },
      "text/plain": [
       "othernews_search link getting thread joining:   0%|          | 0/3 [00:00<?, ?it/s]"
      ]
     },
     "metadata": {},
     "output_type": "display_data"
    },
    {
     "data": {
      "application/vnd.jupyter.widget-view+json": {
       "model_id": "8050bdb1a59c4f8db188e29109cb672a",
       "version_major": 2,
       "version_minor": 0
      },
      "text/plain": [
       "othernews_search link getting thread joining:   0%|          | 0/3 [00:00<?, ?it/s]"
      ]
     },
     "metadata": {},
     "output_type": "display_data"
    },
    {
     "data": {
      "application/vnd.jupyter.widget-view+json": {
       "model_id": "63d80516b1de4e26a0dca1161fa94846",
       "version_major": 2,
       "version_minor": 0
      },
      "text/plain": [
       "othernews_search link getting thread joining:   0%|          | 0/3 [00:00<?, ?it/s]"
      ]
     },
     "metadata": {},
     "output_type": "display_data"
    },
    {
     "data": {
      "application/vnd.jupyter.widget-view+json": {
       "model_id": "fb4e51356cb84e22af0e7ff7cda39189",
       "version_major": 2,
       "version_minor": 0
      },
      "text/plain": [
       "othernews_search link getting thread joining:   0%|          | 0/3 [00:00<?, ?it/s]"
      ]
     },
     "metadata": {},
     "output_type": "display_data"
    },
    {
     "data": {
      "application/vnd.jupyter.widget-view+json": {
       "model_id": "c89ff188efc24d7199b3e6c6d2e8acea",
       "version_major": 2,
       "version_minor": 0
      },
      "text/plain": [
       "othernews_search link getting thread joining:   0%|          | 0/3 [00:00<?, ?it/s]"
      ]
     },
     "metadata": {},
     "output_type": "display_data"
    },
    {
     "data": {
      "application/vnd.jupyter.widget-view+json": {
       "model_id": "00a9d670d1eb41bd95f4870c8b95602f",
       "version_major": 2,
       "version_minor": 0
      },
      "text/plain": [
       "othernews_search link getting thread joining:   0%|          | 0/3 [00:00<?, ?it/s]"
      ]
     },
     "metadata": {},
     "output_type": "display_data"
    },
    {
     "data": {
      "application/vnd.jupyter.widget-view+json": {
       "model_id": "45b6fe28cdfb4d83a0c0364fb7214741",
       "version_major": 2,
       "version_minor": 0
      },
      "text/plain": [
       "othernews_search link getting thread joining:   0%|          | 0/3 [00:00<?, ?it/s]"
      ]
     },
     "metadata": {},
     "output_type": "display_data"
    },
    {
     "data": {
      "application/vnd.jupyter.widget-view+json": {
       "model_id": "180ce2fe1ed6407f9dd152c83653d178",
       "version_major": 2,
       "version_minor": 0
      },
      "text/plain": [
       "othernews_search link getting thread joining:   0%|          | 0/3 [00:01<?, ?it/s]"
      ]
     },
     "metadata": {},
     "output_type": "display_data"
    },
    {
     "data": {
      "application/vnd.jupyter.widget-view+json": {
       "model_id": "0219365710cf41d28b243081eb43fcdf",
       "version_major": 2,
       "version_minor": 0
      },
      "text/plain": [
       "othernews_search link getting thread joining:   0%|          | 0/3 [00:00<?, ?it/s]"
      ]
     },
     "metadata": {},
     "output_type": "display_data"
    },
    {
     "data": {
      "application/vnd.jupyter.widget-view+json": {
       "model_id": "45b2f52c767a4007844dc6d52364792b",
       "version_major": 2,
       "version_minor": 0
      },
      "text/plain": [
       "othernews_search link getting thread joining:   0%|          | 0/3 [00:00<?, ?it/s]"
      ]
     },
     "metadata": {},
     "output_type": "display_data"
    },
    {
     "data": {
      "application/vnd.jupyter.widget-view+json": {
       "model_id": "d3db655c7e3747f0ac9860c32bc77a11",
       "version_major": 2,
       "version_minor": 0
      },
      "text/plain": [
       "othernews_search link getting thread joining:   0%|          | 0/3 [00:00<?, ?it/s]"
      ]
     },
     "metadata": {},
     "output_type": "display_data"
    },
    {
     "data": {
      "application/vnd.jupyter.widget-view+json": {
       "model_id": "fcbc502c05f44c45b4f8f534073e50ad",
       "version_major": 2,
       "version_minor": 0
      },
      "text/plain": [
       "othernews_search link getting thread joining:   0%|          | 0/3 [00:00<?, ?it/s]"
      ]
     },
     "metadata": {},
     "output_type": "display_data"
    },
    {
     "data": {
      "application/vnd.jupyter.widget-view+json": {
       "model_id": "7100fb9ad145412bbfd33c6cd570091f",
       "version_major": 2,
       "version_minor": 0
      },
      "text/plain": [
       "othernews_search link getting thread joining:   0%|          | 0/3 [00:02<?, ?it/s]"
      ]
     },
     "metadata": {},
     "output_type": "display_data"
    },
    {
     "data": {
      "application/vnd.jupyter.widget-view+json": {
       "model_id": "0897e359559244bd8507f9b0282166e7",
       "version_major": 2,
       "version_minor": 0
      },
      "text/plain": [
       "othernews_search link getting thread joining:   0%|          | 0/3 [00:00<?, ?it/s]"
      ]
     },
     "metadata": {},
     "output_type": "display_data"
    },
    {
     "data": {
      "application/vnd.jupyter.widget-view+json": {
       "model_id": "1b1d8c76d0dc49508da00bfadde479f5",
       "version_major": 2,
       "version_minor": 0
      },
      "text/plain": [
       "search_list thread joining:   0%|          | 0/43 [00:03<?, ?it/s]"
      ]
     },
     "metadata": {},
     "output_type": "display_data"
    },
    {
     "data": {
      "application/vnd.jupyter.widget-view+json": {
       "model_id": "35e925850eb64e8c89a431304d71a0a0",
       "version_major": 2,
       "version_minor": 0
      },
      "text/plain": [
       "othernews_search link getting thread joining:   0%|          | 0/3 [00:02<?, ?it/s]"
      ]
     },
     "metadata": {},
     "output_type": "display_data"
    },
    {
     "data": {
      "application/vnd.jupyter.widget-view+json": {
       "model_id": "faf07c26c0504c1484de24a19995fd34",
       "version_major": 2,
       "version_minor": 0
      },
      "text/plain": [
       "othernews_search link getting thread joining:   0%|          | 0/3 [00:01<?, ?it/s]"
      ]
     },
     "metadata": {},
     "output_type": "display_data"
    },
    {
     "data": {
      "application/vnd.jupyter.widget-view+json": {
       "model_id": "7705d7ba2a254ec3ab3b2c066dd6c033",
       "version_major": 2,
       "version_minor": 0
      },
      "text/plain": [
       "othernews_search link getting thread joining:   0%|          | 0/3 [00:02<?, ?it/s]"
      ]
     },
     "metadata": {},
     "output_type": "display_data"
    },
    {
     "data": {
      "application/vnd.jupyter.widget-view+json": {
       "model_id": "1874b543b87a4c4bb93748549a98dacd",
       "version_major": 2,
       "version_minor": 0
      },
      "text/plain": [
       "othernews_search link getting thread joining:   0%|          | 0/3 [00:01<?, ?it/s]"
      ]
     },
     "metadata": {},
     "output_type": "display_data"
    },
    {
     "data": {
      "application/vnd.jupyter.widget-view+json": {
       "model_id": "8c267aa8e8d4468daf47cac13db097e8",
       "version_major": 2,
       "version_minor": 0
      },
      "text/plain": [
       "othernews_search link getting thread joining:   0%|          | 0/3 [00:02<?, ?it/s]"
      ]
     },
     "metadata": {},
     "output_type": "display_data"
    },
    {
     "name": "stdout",
     "output_type": "stream",
     "text": [
      "Error encountered in retrieving links: Message: \n",
      "\n",
      "Error encountered in retrieving links: Message: \n",
      "\n",
      "Error encountered in retrieving links: Message: \n",
      "\n",
      "Error encountered in retrieving links: Message: \n",
      "\n",
      "Error encountered in retrieving links: Message: \n",
      "\n",
      "Error encountered in retrieving links: Message: \n",
      "\n",
      "Error encountered in retrieving links: Message: \n",
      "\n",
      "Error encountered in retrieving links: Message: \n",
      "\n",
      "Error encountered in retrieving links: Message: \n",
      "\n",
      "Error encountered in retrieving links: Message: \n",
      "\n",
      "Error encountered in retrieving links: Message: \n",
      "\n",
      "Error encountered in retrieving links: Message: \n",
      "\n",
      "Error encountered in retrieving links: Message: \n",
      "\n",
      "Error encountered in retrieving links: Message: \n",
      "\n",
      "Error encountered in retrieving links: Message: \n",
      "\n",
      "Error encountered in retrieving links: Message: \n",
      "\n",
      "Error encountered in retrieving links: Message: \n",
      "\n",
      "Error encountered in retrieving links: Message: \n",
      "\n",
      "Error encountered in retrieving links: Message: \n",
      "\n",
      "Error encountered in retrieving links: Message: \n",
      "\n",
      "Error encountered in retrieving links: Message: \n",
      "\n",
      "Error encountered in retrieving links: Message: \n",
      "\n",
      "Error encountered in retrieving links: Message: \n",
      "\n",
      "Error encountered in retrieving links: Message: \n",
      "\n",
      "Error encountered in retrieving links: Message: \n",
      "\n",
      "Error encountered in retrieving links: Message: \n",
      "\n",
      "Error encountered in retrieving links: Message: \n",
      "\n",
      "Error encountered in retrieving links: Message: \n",
      "\n",
      "Error encountered in retrieving links: Message: \n",
      "\n",
      "Error encountered in retrieving links: Message: \n",
      "\n",
      "Error encountered in retrieving links: Message: \n",
      "\n",
      "Error encountered in retrieving links: Message: \n",
      "\n",
      "Error encountered in retrieving links: Message: \n",
      "\n",
      "Error encountered in retrieving links: Message: \n",
      "\n",
      "Error encountered in retrieving links: Message: \n",
      "\n",
      "Error encountered in retrieving links: Message: \n",
      "\n",
      "Error encountered in retrieving links: Message: \n",
      "\n",
      "Error encountered in retrieving links: Message: \n",
      "\n",
      "Error encountered in retrieving links: Message: \n",
      "\n",
      "Error encountered in retrieving links: Message: \n",
      "\n",
      "Error encountered in retrieving links: Message: \n",
      "\n",
      "Error encountered in retrieving links: Message: \n",
      "\n",
      "No links found for SCMP search for query [Taiwan political parties platforms]\n"
     ]
    },
    {
     "data": {
      "application/vnd.jupyter.widget-view+json": {
       "model_id": "88cb38103751424b929f5e4a3ec329e6",
       "version_major": 2,
       "version_minor": 0
      },
      "text/plain": [
       "othernews_search thread joining:   0%|          | 0/7 [00:00<?, ?it/s]"
      ]
     },
     "metadata": {},
     "output_type": "display_data"
    },
    {
     "name": "stdout",
     "output_type": "stream",
     "text": [
      "No links found for SCMP search for query [East Asia geopolitical order changes]\n"
     ]
    },
    {
     "data": {
      "application/vnd.jupyter.widget-view+json": {
       "model_id": "f67f30d03dac4c96bbd5734dfe3b9578",
       "version_major": 2,
       "version_minor": 0
      },
      "text/plain": [
       "othernews_search thread joining:   0%|          | 0/6 [00:00<?, ?it/s]"
      ]
     },
     "metadata": {},
     "output_type": "display_data"
    },
    {
     "name": "stdout",
     "output_type": "stream",
     "text": [
      "No links found for SCMP search for query [U.S. Taiwan arms sales]\n"
     ]
    },
    {
     "data": {
      "application/vnd.jupyter.widget-view+json": {
       "model_id": "9724c7323bab47e6a124a91d71e23a11",
       "version_major": 2,
       "version_minor": 0
      },
      "text/plain": [
       "othernews_search thread joining:   0%|          | 0/10 [00:00<?, ?it/s]"
      ]
     },
     "metadata": {},
     "output_type": "display_data"
    },
    {
     "name": "stdout",
     "output_type": "stream",
     "text": [
      "No links found for SCMP search for query [East Asia economy]\n"
     ]
    },
    {
     "data": {
      "application/vnd.jupyter.widget-view+json": {
       "model_id": "09935f649f7a4f2393c351d553271fb3",
       "version_major": 2,
       "version_minor": 0
      },
      "text/plain": [
       "othernews_search thread joining:   0%|          | 0/10 [00:00<?, ?it/s]"
      ]
     },
     "metadata": {},
     "output_type": "display_data"
    },
    {
     "name": "stdout",
     "output_type": "stream",
     "text": [
      "No links found for SCMP search for query [Taiwan China relations patterns]\n"
     ]
    },
    {
     "data": {
      "application/vnd.jupyter.widget-view+json": {
       "model_id": "be215d99c6e442a7a917036636a9a7e0",
       "version_major": 2,
       "version_minor": 0
      },
      "text/plain": [
       "othernews_search thread joining:   0%|          | 0/7 [00:00<?, ?it/s]"
      ]
     },
     "metadata": {},
     "output_type": "display_data"
    },
    {
     "name": "stdout",
     "output_type": "stream",
     "text": [
      "No links found for SCMP search for query [Taiwan China supply chain linkages]\n"
     ]
    },
    {
     "data": {
      "application/vnd.jupyter.widget-view+json": {
       "model_id": "805fb0c28d93434f8cd486565257af25",
       "version_major": 2,
       "version_minor": 0
      },
      "text/plain": [
       "othernews_search thread joining:   0%|          | 0/6 [00:00<?, ?it/s]"
      ]
     },
     "metadata": {},
     "output_type": "display_data"
    },
    {
     "name": "stdout",
     "output_type": "stream",
     "text": [
      "No links found for SCMP search for query [global economic trends]\n"
     ]
    },
    {
     "data": {
      "application/vnd.jupyter.widget-view+json": {
       "model_id": "50a9f01da4c041eebfb9c27dbc1e3f38",
       "version_major": 2,
       "version_minor": 0
      },
      "text/plain": [
       "othernews_search thread joining:   0%|          | 0/10 [00:00<?, ?it/s]"
      ]
     },
     "metadata": {},
     "output_type": "display_data"
    },
    {
     "data": {
      "application/vnd.jupyter.widget-view+json": {
       "model_id": "53036e85af4c484bba52940c711fb4f8",
       "version_major": 2,
       "version_minor": 0
      },
      "text/plain": [
       "othernews_search thread joining:   0%|          | 0/15 [00:00<?, ?it/s]"
      ]
     },
     "metadata": {},
     "output_type": "display_data"
    },
    {
     "name": "stdout",
     "output_type": "stream",
     "text": [
      "No links found for SCMP search for query [China-Taiwan relations]\n",
      "No links found for SCMP search for query [U.S. Taiwan diplomatic engagement]\n"
     ]
    },
    {
     "data": {
      "application/vnd.jupyter.widget-view+json": {
       "model_id": "a348f66ba0d241918025730a839fcc8a",
       "version_major": 2,
       "version_minor": 0
      },
      "text/plain": [
       "othernews_search thread joining:   0%|          | 0/10 [00:00<?, ?it/s]"
      ]
     },
     "metadata": {},
     "output_type": "display_data"
    },
    {
     "data": {
      "application/vnd.jupyter.widget-view+json": {
       "model_id": "556850a1968349fb96e31ca356a726fe",
       "version_major": 2,
       "version_minor": 0
      },
      "text/plain": [
       "othernews_search thread joining:   0%|          | 0/10 [00:00<?, ?it/s]"
      ]
     },
     "metadata": {},
     "output_type": "display_data"
    },
    {
     "name": "stdout",
     "output_type": "stream",
     "text": [
      "No links found for SCMP search for query [Taiwan election scenarios]\n"
     ]
    },
    {
     "data": {
      "application/vnd.jupyter.widget-view+json": {
       "model_id": "1a43e74e17cb446d9d61f91070996c76",
       "version_major": 2,
       "version_minor": 0
      },
      "text/plain": [
       "othernews_search thread joining:   0%|          | 0/10 [00:00<?, ?it/s]"
      ]
     },
     "metadata": {},
     "output_type": "display_data"
    },
    {
     "name": "stdout",
     "output_type": "stream",
     "text": [
      "No links found for SCMP search for query [China economic zones influence]\n"
     ]
    },
    {
     "data": {
      "application/vnd.jupyter.widget-view+json": {
       "model_id": "25e8c0331f0c4b1189b04eb9501b9670",
       "version_major": 2,
       "version_minor": 0
      },
      "text/plain": [
       "othernews_search thread joining:   0%|          | 0/10 [00:00<?, ?it/s]"
      ]
     },
     "metadata": {},
     "output_type": "display_data"
    },
    {
     "name": "stdout",
     "output_type": "stream",
     "text": [
      "Error encountered in retrieving links: Message: \n",
      "\n",
      "No links found for SCMP search for query [China foreign policy towards Taiwan]\n"
     ]
    },
    {
     "data": {
      "application/vnd.jupyter.widget-view+json": {
       "model_id": "e9dbf84c937947a59eaf794ab7f2b27f",
       "version_major": 2,
       "version_minor": 0
      },
      "text/plain": [
       "othernews_search thread joining:   0%|          | 0/10 [00:00<?, ?it/s]"
      ]
     },
     "metadata": {},
     "output_type": "display_data"
    },
    {
     "name": "stdout",
     "output_type": "stream",
     "text": [
      "No links found for Financial Times search for query [Quadrilateral Security Dialogue member states stances]\n",
      "No links found for SCMP search for query [Quadrilateral Security Dialogue member states stances]\n",
      "No links found for Reuters search for query [Quadrilateral Security Dialogue member states stances]\n",
      "No links found for SCMP search for query [Taiwan elections scenario analysis]\n",
      "No links found for SCMP search for query [Taiwan foreign policy towards China]\n",
      "No links found for SCMP search for query [regional diplomatic responses to Taiwan]\n"
     ]
    },
    {
     "data": {
      "application/vnd.jupyter.widget-view+json": {
       "model_id": "524ae281e9aa44db8f9bcd2f814e711e",
       "version_major": 2,
       "version_minor": 0
      },
      "text/plain": [
       "othernews_search thread joining:   0%|          | 0/6 [00:00<?, ?it/s]"
      ]
     },
     "metadata": {},
     "output_type": "display_data"
    },
    {
     "data": {
      "application/vnd.jupyter.widget-view+json": {
       "model_id": "73feda15dac04b16a6b72f74de1621b7",
       "version_major": 2,
       "version_minor": 0
      },
      "text/plain": [
       "othernews_search thread joining:   0%|          | 0/10 [00:00<?, ?it/s]"
      ]
     },
     "metadata": {},
     "output_type": "display_data"
    },
    {
     "data": {
      "application/vnd.jupyter.widget-view+json": {
       "model_id": "bfce72d6527349ab9cf9210b2f627b73",
       "version_major": 2,
       "version_minor": 0
      },
      "text/plain": [
       "othernews_search thread joining:   0%|          | 0/7 [00:00<?, ?it/s]"
      ]
     },
     "metadata": {},
     "output_type": "display_data"
    },
    {
     "name": "stdout",
     "output_type": "stream",
     "text": [
      "No links found for SCMP search for query [U.S. policy influence on Taiwan]\n"
     ]
    },
    {
     "data": {
      "application/vnd.jupyter.widget-view+json": {
       "model_id": "3fd940ae12054f27b32ff746d8556228",
       "version_major": 2,
       "version_minor": 0
      },
      "text/plain": [
       "othernews_search thread joining:   0%|          | 0/10 [00:00<?, ?it/s]"
      ]
     },
     "metadata": {},
     "output_type": "display_data"
    },
    {
     "name": "stdout",
     "output_type": "stream",
     "text": [
      "No links found for SCMP search for query [Taiwan Relations Act]\n"
     ]
    },
    {
     "data": {
      "application/vnd.jupyter.widget-view+json": {
       "model_id": "ea82a95419d7486985978e58f3b54392",
       "version_major": 2,
       "version_minor": 0
      },
      "text/plain": [
       "othernews_search thread joining:   0%|          | 0/10 [00:00<?, ?it/s]"
      ]
     },
     "metadata": {},
     "output_type": "display_data"
    },
    {
     "name": "stdout",
     "output_type": "stream",
     "text": [
      "No links found for SCMP search for query [China non-military response Taiwan elections]\n"
     ]
    },
    {
     "data": {
      "application/vnd.jupyter.widget-view+json": {
       "model_id": "93c77cd5900447139eab78f7adae03ac",
       "version_major": 2,
       "version_minor": 0
      },
      "text/plain": [
       "othernews_search thread joining:   0%|          | 0/8 [00:00<?, ?it/s]"
      ]
     },
     "metadata": {},
     "output_type": "display_data"
    },
    {
     "name": "stdout",
     "output_type": "stream",
     "text": [
      "No links found for SCMP search for query [East Asian countries economic relations]\n"
     ]
    },
    {
     "data": {
      "application/vnd.jupyter.widget-view+json": {
       "model_id": "ff288fcb3f9e4c66aae06129f4f19600",
       "version_major": 2,
       "version_minor": 0
      },
      "text/plain": [
       "othernews_search thread joining:   0%|          | 0/10 [00:00<?, ?it/s]"
      ]
     },
     "metadata": {},
     "output_type": "display_data"
    },
    {
     "name": "stdout",
     "output_type": "stream",
     "text": [
      "No links found for SCMP search for query [Taiwan government policy shift impact]\n"
     ]
    },
    {
     "data": {
      "application/vnd.jupyter.widget-view+json": {
       "model_id": "cb27df0faf4248398057d08ab8890539",
       "version_major": 2,
       "version_minor": 0
      },
      "text/plain": [
       "othernews_search thread joining:   0%|          | 0/10 [00:00<?, ?it/s]"
      ]
     },
     "metadata": {},
     "output_type": "display_data"
    },
    {
     "data": {
      "application/vnd.jupyter.widget-view+json": {
       "model_id": "3e532c239197402b81c6e5417679990e",
       "version_major": 2,
       "version_minor": 0
      },
      "text/plain": [
       "othernews_search thread joining:   0%|          | 0/15 [00:00<?, ?it/s]"
      ]
     },
     "metadata": {},
     "output_type": "display_data"
    },
    {
     "name": "stdout",
     "output_type": "stream",
     "text": [
      "No links found for SCMP search for query [China military response Taiwan elections]\n"
     ]
    },
    {
     "data": {
      "application/vnd.jupyter.widget-view+json": {
       "model_id": "730609152e4f41269d4c8ade0f4f7a7e",
       "version_major": 2,
       "version_minor": 0
      },
      "text/plain": [
       "othernews_search thread joining:   0%|          | 0/10 [00:00<?, ?it/s]"
      ]
     },
     "metadata": {},
     "output_type": "display_data"
    },
    {
     "name": "stdout",
     "output_type": "stream",
     "text": [
      "No links found for SCMP search for query [Taiwan domestic policy impact]\n"
     ]
    },
    {
     "data": {
      "application/vnd.jupyter.widget-view+json": {
       "model_id": "205dc35f3a8e43fca63c38c107d3ee3b",
       "version_major": 2,
       "version_minor": 0
      },
      "text/plain": [
       "othernews_search thread joining:   0%|          | 0/10 [00:00<?, ?it/s]"
      ]
     },
     "metadata": {},
     "output_type": "display_data"
    },
    {
     "name": "stdout",
     "output_type": "stream",
     "text": [
      "No links found for SCMP search for query [China economic leverage over Taiwan]\n",
      "Error encountered in retrieving links: Message: \n",
      "\n"
     ]
    },
    {
     "data": {
      "application/vnd.jupyter.widget-view+json": {
       "model_id": "8f1bb811f9da42e3bae44810966c366a",
       "version_major": 2,
       "version_minor": 0
      },
      "text/plain": [
       "othernews_search thread joining:   0%|          | 0/10 [00:00<?, ?it/s]"
      ]
     },
     "metadata": {},
     "output_type": "display_data"
    },
    {
     "name": "stdout",
     "output_type": "stream",
     "text": [
      "No links found for SCMP search for query [Taiwan election impact on geopolitical trends]\n",
      "No links found for Reuters search for query [Taiwan election impact on geopolitical trends]\n"
     ]
    },
    {
     "data": {
      "application/vnd.jupyter.widget-view+json": {
       "model_id": "7e9c577576634a97971c3c5fbdfe68fd",
       "version_major": 2,
       "version_minor": 0
      },
      "text/plain": [
       "othernews_search thread joining:   0%|          | 0/5 [00:00<?, ?it/s]"
      ]
     },
     "metadata": {},
     "output_type": "display_data"
    },
    {
     "name": "stdout",
     "output_type": "stream",
     "text": [
      "No links found for SCMP search for query [Taiwan status]\n"
     ]
    },
    {
     "data": {
      "application/vnd.jupyter.widget-view+json": {
       "model_id": "8666dc0ee8a3409389c7b128747edbb8",
       "version_major": 2,
       "version_minor": 0
      },
      "text/plain": [
       "othernews_search thread joining:   0%|          | 0/10 [00:00<?, ?it/s]"
      ]
     },
     "metadata": {},
     "output_type": "display_data"
    },
    {
     "name": "stdout",
     "output_type": "stream",
     "text": [
      "No links found for SCMP search for query [China-Taiwan defense policies]\n"
     ]
    },
    {
     "data": {
      "application/vnd.jupyter.widget-view+json": {
       "model_id": "69385210297e467ba48eecb3f38c93ba",
       "version_major": 2,
       "version_minor": 0
      },
      "text/plain": [
       "othernews_search thread joining:   0%|          | 0/10 [00:00<?, ?it/s]"
      ]
     },
     "metadata": {},
     "output_type": "display_data"
    },
    {
     "name": "stdout",
     "output_type": "stream",
     "text": [
      "No links found for SCMP search for query [China-Taiwan trade policies]\n"
     ]
    },
    {
     "data": {
      "application/vnd.jupyter.widget-view+json": {
       "model_id": "68352c539c114724b4c1d7162b09c359",
       "version_major": 2,
       "version_minor": 0
      },
      "text/plain": [
       "othernews_search thread joining:   0%|          | 0/10 [00:00<?, ?it/s]"
      ]
     },
     "metadata": {},
     "output_type": "display_data"
    },
    {
     "name": "stdout",
     "output_type": "stream",
     "text": [
      "Error encountered in retrieving links: Message: \n",
      "\n",
      "No links found for Reuters search for query [Taiwan public opinion cross-Strait relations]\n"
     ]
    },
    {
     "data": {
      "application/vnd.jupyter.widget-view+json": {
       "model_id": "ea9eaecc2fae4f81a62128128776444f",
       "version_major": 2,
       "version_minor": 0
      },
      "text/plain": [
       "othernews_search thread joining:   0%|          | 0/10 [00:00<?, ?it/s]"
      ]
     },
     "metadata": {},
     "output_type": "display_data"
    },
    {
     "name": "stdout",
     "output_type": "stream",
     "text": [
      "Error encountered in retrieving links: Message: \n",
      "\n",
      "No links found for Reuters search for query [Taiwan Strait precedents]\n"
     ]
    },
    {
     "data": {
      "application/vnd.jupyter.widget-view+json": {
       "model_id": "88b971ecdaac45cd89f445618d37f0bd",
       "version_major": 2,
       "version_minor": 0
      },
      "text/plain": [
       "othernews_search thread joining:   0%|          | 0/10 [00:00<?, ?it/s]"
      ]
     },
     "metadata": {},
     "output_type": "display_data"
    },
    {
     "name": "stdout",
     "output_type": "stream",
     "text": [
      "Error encountered in retrieving links: Message: \n",
      "\n",
      "No links found for SCMP search for query [cross-Strait crises history]\n",
      "No links found for Reuters search for query [cross-Strait crises history]\n",
      "Error encountered in retrieving links: Message: \n",
      "\n"
     ]
    },
    {
     "data": {
      "application/vnd.jupyter.widget-view+json": {
       "model_id": "734863c34ee74a4fa1a16f9e700293e6",
       "version_major": 2,
       "version_minor": 0
      },
      "text/plain": [
       "othernews_search thread joining:   0%|          | 0/5 [00:00<?, ?it/s]"
      ]
     },
     "metadata": {},
     "output_type": "display_data"
    },
    {
     "name": "stdout",
     "output_type": "stream",
     "text": [
      "No links found for SCMP search for query [Taiwan historical election results]\n",
      "No links found for Reuters search for query [Taiwan historical election results]\n"
     ]
    },
    {
     "data": {
      "application/vnd.jupyter.widget-view+json": {
       "model_id": "585584524b2940dbb04a076931234f67",
       "version_major": 2,
       "version_minor": 0
      },
      "text/plain": [
       "othernews_search thread joining:   0%|          | 0/5 [00:00<?, ?it/s]"
      ]
     },
     "metadata": {},
     "output_type": "display_data"
    },
    {
     "name": "stdout",
     "output_type": "stream",
     "text": [
      "Error encountered in retrieving links: Message: \n",
      "\n",
      "No links found for SCMP search for query [Taiwan elections cross-Strait relations geopolitics]\n",
      "No links found for Reuters search for query [Taiwan elections cross-Strait relations geopolitics]\n"
     ]
    },
    {
     "data": {
      "application/vnd.jupyter.widget-view+json": {
       "model_id": "97b18ed1e86340ba83aa6c76b7a847ca",
       "version_major": 2,
       "version_minor": 0
      },
      "text/plain": [
       "othernews_search thread joining:   0%|          | 0/5 [00:00<?, ?it/s]"
      ]
     },
     "metadata": {},
     "output_type": "display_data"
    },
    {
     "name": "stdout",
     "output_type": "stream",
     "text": [
      "Error encountered in retrieving links: Message: \n",
      "Error encountered in retrieving links: Message: \n",
      "\n",
      "\n",
      "No links found for SCMP search for query [Taiwan leading candidates profiles]\n",
      "No links found for Reuters search for query [Taiwan leading candidates profiles]\n",
      "No links found for SCMP search for query [cross-Strait resolutions]\n",
      "No links found for Reuters search for query [cross-Strait resolutions]\n"
     ]
    },
    {
     "data": {
      "application/vnd.jupyter.widget-view+json": {
       "model_id": "343390bbddad41fda0693691e482db9d",
       "version_major": 2,
       "version_minor": 0
      },
      "text/plain": [
       "othernews_search thread joining:   0%|          | 0/5 [00:00<?, ?it/s]"
      ]
     },
     "metadata": {},
     "output_type": "display_data"
    },
    {
     "data": {
      "application/vnd.jupyter.widget-view+json": {
       "model_id": "149aac0baad64949ad38692ccd18d7f1",
       "version_major": 2,
       "version_minor": 0
      },
      "text/plain": [
       "othernews_search thread joining:   0%|          | 0/5 [00:00<?, ?it/s]"
      ]
     },
     "metadata": {},
     "output_type": "display_data"
    },
    {
     "name": "stdout",
     "output_type": "stream",
     "text": [
      "Error encountered in retrieving links: Message: \n",
      "\n",
      "Error encountered in retrieving links: Message: \n",
      "\n",
      "No links found for SCMP search for query [Taiwan mainland China economic interdependence]\n",
      "No links found for Reuters search for query [Taiwan mainland China economic interdependence]\n"
     ]
    },
    {
     "data": {
      "application/vnd.jupyter.widget-view+json": {
       "model_id": "8e9052fe06e64644a5e1e46bd2c8a5e3",
       "version_major": 2,
       "version_minor": 0
      },
      "text/plain": [
       "othernews_search thread joining:   0%|          | 0/5 [00:00<?, ?it/s]"
      ]
     },
     "metadata": {},
     "output_type": "display_data"
    },
    {
     "name": "stdout",
     "output_type": "stream",
     "text": [
      "No links found for SCMP search for query [collective security structures East Asia]\n",
      "No links found for Reuters search for query [collective security structures East Asia]\n"
     ]
    },
    {
     "data": {
      "application/vnd.jupyter.widget-view+json": {
       "model_id": "6074b33826074da1b1c9796a3e1977fe",
       "version_major": 2,
       "version_minor": 0
      },
      "text/plain": [
       "othernews_search thread joining:   0%|          | 0/5 [00:00<?, ?it/s]"
      ]
     },
     "metadata": {},
     "output_type": "display_data"
    },
    {
     "name": "stdout",
     "output_type": "stream",
     "text": [
      "Error encountered in retrieving links: Message: \n",
      "\n",
      "No links found for SCMP search for query [Cross-Strait relations post Taiwan elections]\n",
      "No links found for Reuters search for query [Cross-Strait relations post Taiwan elections]\n"
     ]
    },
    {
     "data": {
      "application/vnd.jupyter.widget-view+json": {
       "model_id": "49f2780d6cef4929aaeaa4b21a753509",
       "version_major": 2,
       "version_minor": 0
      },
      "text/plain": [
       "othernews_search thread joining:   0%|          | 0/5 [00:00<?, ?it/s]"
      ]
     },
     "metadata": {},
     "output_type": "display_data"
    },
    {
     "name": "stdout",
     "output_type": "stream",
     "text": [
      "Error encountered in retrieving links: Message: \n",
      "\n",
      "No links found for SCMP search for query [Taiwan cross-Strait dynamics]\n",
      "No links found for Reuters search for query [Taiwan cross-Strait dynamics]\n"
     ]
    },
    {
     "data": {
      "application/vnd.jupyter.widget-view+json": {
       "model_id": "24d73ca2247a43a0948996206ad11fea",
       "version_major": 2,
       "version_minor": 0
      },
      "text/plain": [
       "othernews_search thread joining:   0%|          | 0/5 [00:00<?, ?it/s]"
      ]
     },
     "metadata": {},
     "output_type": "display_data"
    },
    {
     "name": "stdout",
     "output_type": "stream",
     "text": [
      "Error encountered in retrieving links: Message: \n",
      "\n",
      "No links found for Financial Times search for query [regional security pacts East Asia]\n",
      "No links found for SCMP search for query [regional security pacts East Asia]\n",
      "No links found for Reuters search for query [regional security pacts East Asia]\n",
      "Error encountered in retrieving links: Message: \n",
      "\n",
      "No links found for Financial Times search for query [war-gaming exercises East Asia geopolitical order]\n",
      "No links found for SCMP search for query [war-gaming exercises East Asia geopolitical order]\n",
      "No links found for Reuters search for query [war-gaming exercises East Asia geopolitical order]\n",
      "failed with response status: 408\n",
      "failed with response status: 400\n",
      "ujeebu results: 335 successes, 2 fails\n",
      "relevant count: 96 out of 335 queries\n",
      "executing summarise_helper, using model gpt-4-1106-preview\n",
      "executing summarise_helper, using model gpt-4-1106-preview\n",
      "executing summarise_helper, using model gpt-4-1106-preview\n",
      "executing summarise_helper, using model gpt-4-1106-preview\n",
      "executing summarise_helper, using model gpt-4-1106-preview\n",
      "executing summarise_helper, using model gpt-4-1106-preview\n",
      "Summary is being done with 6 task(s).\n",
      "done executing summarise_helper. Took 11.0530 seconds.\n",
      "done executing summarise_helper. Took 12.7504 seconds.\n",
      "done executing summarise_helper. Took 17.5706 seconds.\n",
      "done executing summarise_helper. Took 18.6365 seconds.\n",
      "done executing summarise_helper. Took 20.3507 seconds.\n",
      "done executing summarise_helper. Took 26.5287 seconds.\n",
      "length of initial summary: 3168\n",
      "done with research\n",
      "china persona chosen with similarity: 0.7909016382378977\n",
      "politics persona chosen with similarity: 0.7775161919770122\n",
      "personas:  You are a Expert on China and a critical understanding of their policy making measures and a Politician with a PhD in political science.\n",
      "done with persona query\n",
      "executing get_material_facts, using model gpt-4-1106-preview\n",
      "executing get_material_facts, using model gpt-4-1106-preview\n",
      "executing get_material_facts, using model gpt-4-1106-preview\n",
      "executing get_alliance_law, using model gpt-4-1106-preview\n",
      "done executing get_alliance_law. Took 22.6270 seconds.\n",
      "done executing get_material_facts. Took 52.3219 seconds.\n"
     ]
    },
    {
     "data": {
      "application/vnd.jupyter.widget-view+json": {
       "model_id": "14f7b6b4352d4b7ab88f2f51df7d8ec4",
       "version_major": 2,
       "version_minor": 0
      },
      "text/plain": [
       "  0%|          | 0/3 [00:00<?, ?it/s]"
      ]
     },
     "metadata": {},
     "output_type": "display_data"
    },
    {
     "name": "stdout",
     "output_type": "stream",
     "text": [
      "Recurrence Material Facts 0\n",
      "executing get_material_facts (critic) iteration 0, using model gpt-4-1106-preview\n",
      "done executing get_material_facts (critic) iteration 0. Took 17.9617 seconds.\n",
      "executing get_material_facts (actor) iteration 0, using model gpt-4-1106-preview\n",
      "done executing get_material_facts. Took 107.3184 seconds.\n"
     ]
    },
    {
     "data": {
      "application/vnd.jupyter.widget-view+json": {
       "model_id": "33737f189c374a11b06533ed81c05f20",
       "version_major": 2,
       "version_minor": 0
      },
      "text/plain": [
       "  0%|          | 0/3 [00:00<?, ?it/s]"
      ]
     },
     "metadata": {},
     "output_type": "display_data"
    },
    {
     "name": "stdout",
     "output_type": "stream",
     "text": [
      "Recurrence Constraints and Friction 0\n",
      "executing get_constraints_friction (critic) iteration 0, using model gpt-4-1106-preview\n",
      "done executing get_material_facts (actor) iteration 0. Took 45.4713 seconds.\n",
      "Recurrence Material Facts 1\n",
      "executing get_material_facts (critic) iteration 1, using model gpt-4-1106-preview\n",
      "done executing get_material_facts. Took 119.3450 seconds.\n"
     ]
    },
    {
     "data": {
      "application/vnd.jupyter.widget-view+json": {
       "model_id": "53fd19d05b1b4d43ab6d86d75645e451",
       "version_major": 2,
       "version_minor": 0
      },
      "text/plain": [
       "  0%|          | 0/3 [00:00<?, ?it/s]"
      ]
     },
     "metadata": {},
     "output_type": "display_data"
    },
    {
     "name": "stdout",
     "output_type": "stream",
     "text": [
      "Recurrence Force Catalysts 0\n",
      "executing get_force_catalysts (critic) iteration 0, using model gpt-4-1106-preview\n",
      "done executing get_constraints_friction (critic) iteration 0. Took 29.5582 seconds.\n",
      "executing get_constraints_friction (actor) iteration 0, using model gpt-4-1106-preview\n",
      "done executing get_material_facts (critic) iteration 1. Took 22.4634 seconds.\n",
      "executing get_material_facts (actor) iteration 1, using model gpt-4-1106-preview\n",
      "done executing get_force_catalysts (critic) iteration 0. Took 25.0817 seconds.\n",
      "executing get_force_catalysts (actor) iteration 0, using model gpt-4-1106-preview\n",
      "done executing get_constraints_friction (actor) iteration 0. Took 25.4416 seconds.\n",
      "Recurrence Constraints and Friction 1\n",
      "executing get_constraints_friction (critic) iteration 1, using model gpt-4-1106-preview\n",
      "done executing get_force_catalysts (actor) iteration 0. Took 23.7599 seconds.\n",
      "Recurrence Force Catalysts 1\n",
      "executing get_force_catalysts (critic) iteration 1, using model gpt-4-1106-preview\n",
      "done executing get_material_facts (actor) iteration 1. Took 39.0109 seconds.\n",
      "Recurrence Material Facts 2\n",
      "executing get_material_facts (critic) iteration 2, using model gpt-4-1106-preview\n",
      "done executing get_constraints_friction (critic) iteration 1. Took 23.1338 seconds.\n",
      "executing get_constraints_friction (actor) iteration 1, using model gpt-4-1106-preview\n",
      "done executing get_force_catalysts (critic) iteration 1. Took 22.8774 seconds.\n",
      "executing get_force_catalysts (actor) iteration 1, using model gpt-4-1106-preview\n",
      "done executing get_material_facts (critic) iteration 2. Took 35.2845 seconds.\n",
      "executing get_material_facts (actor) iteration 2, using model gpt-4-1106-preview\n",
      "done executing get_force_catalysts (actor) iteration 1. Took 28.0965 seconds.\n",
      "Recurrence Force Catalysts 2\n",
      "executing get_force_catalysts (critic) iteration 2, using model gpt-4-1106-preview\n",
      "done executing get_constraints_friction (actor) iteration 1. Took 52.9598 seconds.\n",
      "Recurrence Constraints and Friction 2\n",
      "executing get_constraints_friction (critic) iteration 2, using model gpt-4-1106-preview\n",
      "done executing get_force_catalysts (critic) iteration 2. Took 19.2999 seconds.\n",
      "executing get_force_catalysts (actor) iteration 2, using model gpt-4-1106-preview\n",
      "done executing get_material_facts (actor) iteration 2. Took 40.8317 seconds.\n",
      "done executing get_constraints_friction (critic) iteration 2. Took 25.8605 seconds.\n",
      "executing get_constraints_friction (actor) iteration 2, using model gpt-4-1106-preview\n",
      "done executing get_force_catalysts (actor) iteration 2. Took 28.7886 seconds.\n",
      "done executing get_constraints_friction (actor) iteration 2. Took 48.8883 seconds.\n",
      "done with na prep\n",
      "executing first_layer, using model gpt-4-1106-preview\n",
      "done executing first_layer. Took 43.0910 seconds.\n",
      "executing infer_value, using model gpt-4-1106-preview\n",
      "done executing infer_value. Took 22.2363 seconds.\n"
     ]
    },
    {
     "data": {
      "application/vnd.jupyter.widget-view+json": {
       "model_id": "1ae4a3542e5a4700aa4fbdf7cad59c9f",
       "version_major": 2,
       "version_minor": 0
      },
      "text/plain": [
       "  0%|          | 0/3 [00:00<?, ?it/s]"
      ]
     },
     "metadata": {},
     "output_type": "display_data"
    },
    {
     "name": "stdout",
     "output_type": "stream",
     "text": [
      "Recurrence First Layer 0\n",
      "executing first_layer (critic) iteration 0, using model gpt-4-1106-preview\n",
      "done executing first_layer (critic) iteration 0. Took 46.4417 seconds.\n",
      "executing first_layer (actor) iteration 0, using model gpt-4-1106-preview\n",
      "done executing first_layer (actor) iteration 0. Took 35.7178 seconds.\n",
      "Recurrence First Layer 1\n",
      "executing first_layer (critic) iteration 1, using model gpt-4-1106-preview\n",
      "done executing first_layer (critic) iteration 1. Took 46.5132 seconds.\n",
      "executing first_layer (actor) iteration 1, using model gpt-4-1106-preview\n",
      "done executing first_layer (actor) iteration 1. Took 49.3379 seconds.\n",
      "Recurrence First Layer 2\n",
      "executing first_layer (critic) iteration 2, using model gpt-4-1106-preview\n",
      "done executing first_layer (critic) iteration 2. Took 39.4435 seconds.\n",
      "executing first_layer (actor) iteration 2, using model gpt-4-1106-preview\n",
      "done executing first_layer (actor) iteration 2. Took 42.1796 seconds.\n",
      "done with first layer\n",
      "executing second_layer\n",
      "done executing second_layer\n"
     ]
    },
    {
     "data": {
      "application/vnd.jupyter.widget-view+json": {
       "model_id": "ff0824a34a27450ca2fbb594f6806a86",
       "version_major": 2,
       "version_minor": 0
      },
      "text/plain": [
       "  0%|          | 0/3 [00:00<?, ?it/s]"
      ]
     },
     "metadata": {},
     "output_type": "display_data"
    },
    {
     "name": "stdout",
     "output_type": "stream",
     "text": [
      "Recurrence First Layer 0\n",
      "executing second_layer (critic) iteration 0, using model gpt-4-1106-preview\n",
      "done executing second_layer (critic) iteration 0. Took 40.3057 seconds.\n",
      "executing second layer (actor) iteration 0, using model gpt-4-1106-preview\n",
      "done executing second layer (actor) iteration 0. Took 53.8268 seconds.\n",
      "Recurrence First Layer 1\n",
      "executing second_layer (critic) iteration 1, using model gpt-4-1106-preview\n",
      "done executing second_layer (critic) iteration 1. Took 28.1171 seconds.\n",
      "executing second layer (actor) iteration 1, using model gpt-4-1106-preview\n",
      "done executing second layer (actor) iteration 1. Took 32.8379 seconds.\n",
      "Recurrence First Layer 2\n",
      "executing second_layer (critic) iteration 2, using model gpt-4-1106-preview\n",
      "done executing second_layer (critic) iteration 2. Took 34.9807 seconds.\n",
      "executing second layer (actor) iteration 2, using model gpt-4-1106-preview\n",
      "done executing second layer (actor) iteration 2. Took 50.7160 seconds.\n",
      "done with second layer\n",
      "executing get_title, using model gpt-4-1106-preview\n",
      "done executing get_title. Took 2.5637 seconds.\n",
      "done with title, title is \"Taiwan Elections: Shifting East Asian Geopolitical Equilibrium\"\n",
      "done with generated report\n",
      "creating article\n",
      "executing create_article, using model gpt-4-1106-preview\n",
      "done executing create_article. Took 31.8394 seconds.\n",
      "executing generate_questions, using model gpt-4-1106-preview\n",
      "done executing generate_questions. Took 27.6081 seconds.\n",
      "executing choose_questions, using model gpt-4-1106-preview\n",
      "done executing choose_questions. Took 18.6327 seconds.\n",
      "time taken: 22.8106\n"
     ]
    }
   ],
   "source": [
    "importlib.reload(rubidium)\n",
    "\n",
    "ruby = rubidium.ActorCriticRuby()\n",
    "new_qn = \"\"\"\n",
    "Context: Scrutiny of the political and economic dynamics associated with the Taiwan elections, particularly in relation to mainland China and its economic zones\n",
    "\n",
    "To what extent could the Taiwan elections and their outcome significantly shift the East Asian geopolitical order, focusing specifically on cross-Strait relations?\n",
    "\"\"\"\n",
    "question = \"What potential reactions may western nations have in response to China's increasing food imports from Africa and how might these reactions influence international trade dynamics?\"\n",
    "start_time = time.time()\n",
    "ruby.net_assess(new_qn)\n",
    "print(f\"time taken: {format((time.time() - start_time)/60, '.4f')}\")"
   ]
  },
  {
   "cell_type": "code",
   "execution_count": 8,
   "metadata": {},
   "outputs": [
    {
     "name": "stdout",
     "output_type": "stream",
     "text": [
      "executing infer_value, using model gpt-4-1106-preview\n",
      "done executing infer_value. Took 25.7069 seconds.\n",
      "Based on the Net Assessment Query provided, the following dynamic criteria are tailored to evaluate the first layer projection of the potential geopolitical impacts of the Taiwan elections on cross-Strait relations:\n",
      "\n",
      "1. Accuracy:\n",
      "   a. Confirmation and integration of all available data concerning the current political climate in Taiwan, voting trends, and past election impacts, as well as mainland China's strategic posture and recent policy statements.\n",
      "   b. Validation of interpreted election data and policies to prevent skewed analysis due to misinformation. Identification of inaccuracies and recommendation for corrective lenses.\n",
      "\n",
      "2. Technical Detail:\n",
      "   a. Presentation of sophisticated details of Taiwan's electoral system and the profiles of key political actors involved, including mainland China's anticipated responses to possible election outcomes.\n",
      "   b. Inclusion of in-depth analysis of economic ties, military capabilities, and political alliances relevant to both Taiwan and mainland China.\n",
      "   c. Elucidation of concepts and contextual background pertinent to an international audience.\n",
      "\n",
      "3. Logical Coherence:\n",
      "   a. Establishment of a consistent narrative linking historical election outcomes to present political realities and potential future shifts.\n",
      "   b. Exposition of the projected outcomes' coherence with existing cross-Strait relations and regional alliances.\n",
      "   c. Elimination of broad generalizations or fallacious reasonings, providing robust supports for each claim.\n",
      "   d. Bridging of any gaps in explanation, ensuring the sequence of cause and effect is clearly outlined and substantiated.\n",
      "\n",
      "4. Analytical Depth:\n",
      "   a. Delving into multifaceted impacts, including but not limited to: military, economic, cultural, and technological aspects of cross-Strait relations.\n",
      "   b. Clarification of intricate geopolitical scenarios for readers, regardless of their familiarity with the subject matter.\n",
      "   c. Exhaustive investigation of the international community's potential reactions to help round out the assessment.\n",
      "\n",
      "5. Biases:\n",
      "   a. Elimination of analyst's personal or cultural biases, maintaining objectivity throughout the assessment.\n",
      "   b. Identification and correction of potential biases derived from source material or prevailing geopolitical narratives.\n",
      "\n",
      "6. Usage of Evidence and Net Assessment Preparation Points:\n",
      "   a. Comprehensive substantiation of points with evidence sourced from credible, diverse, and current datasets and expert opinion.\n",
      "   b. Avoidance of baseless assertions, ensuring that conclusions are logically deduced from the groundwork laid in the analysis.\n",
      "\n",
      "7. Concluding Impacts:\n",
      "   a. Full encapsulation of the query, ensuring that each aspect of the election's impact on cross-Strait relations and broader East Asian geopolitics is explored.\n",
      "   b. Optimization of the conclusions to provide clear, direct responses to the core question without ambiguity.\n",
      "\n",
      "8. Actionable Insights and Tangible Benefits:\n",
      "   a. Translation of assessment findings into concrete policy recommendations and strategy propositions, specifying timelines and milestones where applicable.\n",
      "   b. Direct counsel, devoid of abstractions, on preventive measures, strategic opportunities, and crisis management tactics in alignment with potential election outcomes and reactions from mainland China.\n",
      "   c. Distillation of projections into operational strategies that can be enacted by relevant stakeholders without further analysis or contemplation.\n",
      "\n",
      "By meeting these criteria, the analyst will deliver a comprehensive and actionable report tailored to the needs of a client seeking to navigate and strategically position themselves within the context of the post-election cross-Strait scenario and the larger East Asian geopolitical landscape.\n"
     ]
    }
   ],
   "source": [
    "importlib.reload(rubidium)\n",
    "\n",
    "qn = \"\"\"\n",
    "Context: Scrutiny of the political and economic dynamics associated with the Taiwan elections, particularly in relation to mainland China and its economic zones\n",
    "\n",
    "To what extent could the Taiwan elections and their outcome significantly shift the East Asian geopolitical order, focusing specifically on cross-Strait relations?\n",
    "\"\"\"\n",
    "\n",
    "rac = rubidium.ActorCriticRuby()\n",
    "dc = rac.infer_value(qn)\n",
    "print(dc)\n"
   ]
  }
 ],
 "metadata": {
  "kernelspec": {
   "display_name": "Python 3",
   "language": "python",
   "name": "python3"
  },
  "language_info": {
   "codemirror_mode": {
    "name": "ipython",
    "version": 3
   },
   "file_extension": ".py",
   "mimetype": "text/x-python",
   "name": "python",
   "nbconvert_exporter": "python",
   "pygments_lexer": "ipython3",
   "version": "3.11.6"
  },
  "orig_nbformat": 4
 },
 "nbformat": 4,
 "nbformat_minor": 2
}
